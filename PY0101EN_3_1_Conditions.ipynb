{
  "nbformat": 4,
  "nbformat_minor": 0,
  "metadata": {
    "colab": {
      "name": "PY0101EN-3-1-Conditions.ipynb",
      "version": "0.3.2",
      "provenance": [],
      "include_colab_link": true
    },
    "language_info": {
      "codemirror_mode": {
        "name": "ipython",
        "version": 3
      },
      "file_extension": ".py",
      "mimetype": "text/x-python",
      "name": "python",
      "nbconvert_exporter": "python",
      "pygments_lexer": "ipython3",
      "version": "3.6.7"
    },
    "kernelspec": {
      "display_name": "Python 3",
      "language": "python",
      "name": "python3"
    }
  },
  "cells": [
    {
      "cell_type": "markdown",
      "metadata": {
        "id": "view-in-github",
        "colab_type": "text"
      },
      "source": [
        "<a href=\"https://colab.research.google.com/github/Lodielaridi/Python-for-Data-Science-101-/blob/master/PY0101EN_3_1_Conditions.ipynb\" target=\"_parent\"><img src=\"https://colab.research.google.com/assets/colab-badge.svg\" alt=\"Open In Colab\"/></a>"
      ]
    },
    {
      "cell_type": "markdown",
      "metadata": {
        "id": "r_BmWtm4QTI-",
        "colab_type": "text"
      },
      "source": [
        "<div class=\"alert alert-block alert-info\" style=\"margin-top: 20px\">\n",
        "    <a href=\"https://cocl.us/NotebooksPython101\">\n",
        "         <img src=\"https://s3-api.us-geo.objectstorage.softlayer.net/cf-courses-data/CognitiveClass/PY0101EN/Ad/TopAd.png\" width=\"750\" align=\"center\">\n",
        "    </a>\n",
        "</div>"
      ]
    },
    {
      "cell_type": "markdown",
      "metadata": {
        "id": "z-2t4-lcQTI_",
        "colab_type": "text"
      },
      "source": [
        "<a href=\"https://cognitiveclass.ai/\">\n",
        "    <img src=\"https://s3-api.us-geo.objectstorage.softlayer.net/cf-courses-data/CognitiveClass/PY0101EN/Ad/CCLog.png\" width=\"200\" align=\"center\">\n",
        "</a>"
      ]
    },
    {
      "cell_type": "markdown",
      "metadata": {
        "id": "fuOmm5c-QTJA",
        "colab_type": "text"
      },
      "source": [
        "<h1>Conditions in Python</h1>"
      ]
    },
    {
      "cell_type": "markdown",
      "metadata": {
        "id": "-stpQDFVQTJB",
        "colab_type": "text"
      },
      "source": [
        "<p><strong>Welcome!</strong> This notebook will teach you about the condition statements in the Python Programming Language. By the end of this lab, you'll know how to use the condition statements in Python, including operators, and branching.</p>"
      ]
    },
    {
      "cell_type": "markdown",
      "metadata": {
        "id": "3Ab2hZ13QTJC",
        "colab_type": "text"
      },
      "source": [
        "<h2>Table of Contents</h2>\n",
        "<div class=\"alert alert-block alert-info\" style=\"margin-top: 20px\">\n",
        "    <ul>\n",
        "        <li>\n",
        "            <a href=\"#cond\">Condition Statements</a>\n",
        "            <ul>\n",
        "                <li><a href=\"comp\">Comparison Operators</a></li>\n",
        "                <li><a href=\"branch\">Branching</a></li>\n",
        "                <li><a href=\"logic\">Logical operators</a></li>\n",
        "            </ul>\n",
        "        </li>\n",
        "        <li>\n",
        "            <a href=\"#quiz\">Quiz on Condition Statement</a>\n",
        "        </li>\n",
        "    </ul>\n",
        "    <p>\n",
        "        Estimated time needed: <strong>20 min</strong>\n",
        "    </p>\n",
        "</div>\n",
        "\n",
        "<hr>"
      ]
    },
    {
      "cell_type": "markdown",
      "metadata": {
        "id": "uSCx2yQ9QTJC",
        "colab_type": "text"
      },
      "source": [
        "<h2 id=\"cond\">Condition Statements</h2>"
      ]
    },
    {
      "cell_type": "markdown",
      "metadata": {
        "id": "oFPHX4PrQTJD",
        "colab_type": "text"
      },
      "source": [
        "<h3 id=\"comp\">Comparison Operators</h3>"
      ]
    },
    {
      "cell_type": "markdown",
      "metadata": {
        "id": "OBbjoKcQQTJE",
        "colab_type": "text"
      },
      "source": [
        "Comparison operations compare some value or operand and, based on a condition, they produce a Boolean. When comparing two values you can use these operators:\n",
        "\n",
        "<ul>\n",
        "    <li>equal: <b>==</b></li>\n",
        "    <li>not equal: <b>!=</b></li>\n",
        "    <li>greater than: <b>></b></li>\n",
        "    <li>less than: <b>&lt;</b></li>\n",
        "    <li>greater than or equal to: <b>>=</b></li>\n",
        "    <li>less than or equal to: <b>&lt;=</b></li>\n",
        "</ul>"
      ]
    },
    {
      "cell_type": "markdown",
      "metadata": {
        "id": "nLx2KC3BQTJE",
        "colab_type": "text"
      },
      "source": [
        "Let's assign <code>a</code> a value of 5. Use the equality operator denoted with two equal <b>==</b> signs to determine if two values are equal. The case below compares the variable <code>a</code> with 6."
      ]
    },
    {
      "cell_type": "code",
      "metadata": {
        "jupyter": {
          "outputs_hidden": false
        },
        "id": "NnICRlwLQTJF",
        "colab_type": "code",
        "colab": {},
        "outputId": "ee849cde-32ee-4ab5-d96e-1224f1ae73f2"
      },
      "source": [
        "# Condition Equal\n",
        "\n",
        "a = 5\n",
        "a == 6"
      ],
      "execution_count": 0,
      "outputs": [
        {
          "output_type": "execute_result",
          "data": {
            "text/plain": [
              "False"
            ]
          },
          "metadata": {
            "tags": []
          },
          "execution_count": 1
        }
      ]
    },
    {
      "cell_type": "markdown",
      "metadata": {
        "id": "MxPyOk8AQTJJ",
        "colab_type": "text"
      },
      "source": [
        "The result is <b>False</b>, as 5 does not equal to 6."
      ]
    },
    {
      "cell_type": "markdown",
      "metadata": {
        "id": "lEVw-xB4QTJK",
        "colab_type": "text"
      },
      "source": [
        "Consider the following equality comparison operator <code>i > 5</code>. If the value of the left operand, in this case the variable <b>i</b>, is greater than the value of the right operand, in this case 5, then the statement is <b>True</b>. Otherwise, the statement is <b>False</b>.  If <b>i</b> is equal to 6, because 6 is larger than 5, the output is <b>True</b>."
      ]
    },
    {
      "cell_type": "code",
      "metadata": {
        "jupyter": {
          "outputs_hidden": false
        },
        "id": "UE6DxeZvQTJL",
        "colab_type": "code",
        "colab": {},
        "outputId": "002f480e-8191-40dc-a629-3b21a8e6d107"
      },
      "source": [
        "# Greater than Sign\n",
        "\n",
        "i = 6\n",
        "i > 5"
      ],
      "execution_count": 0,
      "outputs": [
        {
          "output_type": "execute_result",
          "data": {
            "text/plain": [
              "True"
            ]
          },
          "metadata": {
            "tags": []
          },
          "execution_count": 2
        }
      ]
    },
    {
      "cell_type": "markdown",
      "metadata": {
        "id": "QZYMbDyHQTJO",
        "colab_type": "text"
      },
      "source": [
        "Set <code>i = 2</code>. The statement is false as 2 is not greater than 5:"
      ]
    },
    {
      "cell_type": "code",
      "metadata": {
        "jupyter": {
          "outputs_hidden": false
        },
        "id": "MH8zpDf_QTJP",
        "colab_type": "code",
        "colab": {},
        "outputId": "65cc9c0b-6706-4df5-97b1-55f11f258f02"
      },
      "source": [
        "# Greater than Sign\n",
        "\n",
        "i = 2\n",
        "i > 5"
      ],
      "execution_count": 0,
      "outputs": [
        {
          "output_type": "execute_result",
          "data": {
            "text/plain": [
              "False"
            ]
          },
          "metadata": {
            "tags": []
          },
          "execution_count": 3
        }
      ]
    },
    {
      "cell_type": "markdown",
      "metadata": {
        "id": "QzYijzr9QTJV",
        "colab_type": "text"
      },
      "source": [
        " Let's display some values for <code>i</code> in the figure. Set the values greater than 5 in green and the rest in red. The green region represents where the condition is **True**, the red where the statement is **False**. If the value of <code>i</code> is 2, we get **False** as the 2 falls in the red region. Similarly, if the value for <code>i</code> is 6 we get a **True** as the condition falls in the green region. "
      ]
    },
    {
      "cell_type": "markdown",
      "metadata": {
        "id": "t0xBGvVNQTJV",
        "colab_type": "text"
      },
      "source": [
        "<img src=\"https://s3-api.us-geo.objectstorage.softlayer.net/cf-courses-data/CognitiveClass/PY0101EN/Chapter%203/Images/CondsGreater.gif\" width=\"650\" />"
      ]
    },
    {
      "cell_type": "markdown",
      "metadata": {
        "id": "U4eBFYvIQTJW",
        "colab_type": "text"
      },
      "source": [
        "The inequality test uses an exclamation mark preceding the equal sign, if two operands are not equal then the condition becomes **True**.  For example, the following condition will produce **True** as long as the value of <code>i</code> is not equal to 6:"
      ]
    },
    {
      "cell_type": "code",
      "metadata": {
        "jupyter": {
          "outputs_hidden": false
        },
        "id": "fJNaarZkQTJW",
        "colab_type": "code",
        "colab": {},
        "outputId": "4cfacac1-e73b-4873-d04f-7ac527cd5622"
      },
      "source": [
        "# Inequality Sign\n",
        "\n",
        "i = 2\n",
        "i != 6"
      ],
      "execution_count": 0,
      "outputs": [
        {
          "output_type": "execute_result",
          "data": {
            "text/plain": [
              "True"
            ]
          },
          "metadata": {
            "tags": []
          },
          "execution_count": 4
        }
      ]
    },
    {
      "cell_type": "markdown",
      "metadata": {
        "id": "eXVDl2j5QTJZ",
        "colab_type": "text"
      },
      "source": [
        "When <code>i</code> equals 6 the inequality expression produces <b>False</b>. "
      ]
    },
    {
      "cell_type": "code",
      "metadata": {
        "jupyter": {
          "outputs_hidden": false
        },
        "id": "GjfNQY_QQTJZ",
        "colab_type": "code",
        "colab": {},
        "outputId": "3eaa235f-2a33-4739-8f71-c1c8904459d8"
      },
      "source": [
        "# Inequality Sign\n",
        "\n",
        "i = 6\n",
        "i != 6"
      ],
      "execution_count": 0,
      "outputs": [
        {
          "output_type": "execute_result",
          "data": {
            "text/plain": [
              "False"
            ]
          },
          "metadata": {
            "tags": []
          },
          "execution_count": 5
        }
      ]
    },
    {
      "cell_type": "markdown",
      "metadata": {
        "id": "r4xdfaayQTJc",
        "colab_type": "text"
      },
      "source": [
        "See the number line below. when the condition is **True** the corresponding numbers are marked in green and for where the condition is **False** the corresponding number is marked in red.  If we set <code>i</code> equal to 2 the operator is true as 2 is in the green region. If we set <code>i</code> equal to 6, we get a **False** as the condition falls in the red region."
      ]
    },
    {
      "cell_type": "markdown",
      "metadata": {
        "id": "J9dDIo1cQTJc",
        "colab_type": "text"
      },
      "source": [
        "<img src=\"https://s3-api.us-geo.objectstorage.softlayer.net/cf-courses-data/CognitiveClass/PY0101EN/Chapter%203/Images/CondsIneq.gif\" width=\"650\" />"
      ]
    },
    {
      "cell_type": "markdown",
      "metadata": {
        "id": "WFla-zGLQTJd",
        "colab_type": "text"
      },
      "source": [
        " We can apply the same methods on strings. For example, use an equality operator on two different strings. As the strings are not equal, we get a **False**."
      ]
    },
    {
      "cell_type": "code",
      "metadata": {
        "jupyter": {
          "outputs_hidden": false
        },
        "id": "BDJfu_dpQTJd",
        "colab_type": "code",
        "colab": {},
        "outputId": "8bcf9b00-b5f2-490a-eac7-7765bb9532b5"
      },
      "source": [
        "# Use Equality sign to compare the strings\n",
        "\n",
        "\"ACDC\" == \"Michael Jackson\""
      ],
      "execution_count": 0,
      "outputs": [
        {
          "output_type": "execute_result",
          "data": {
            "text/plain": [
              "False"
            ]
          },
          "metadata": {
            "tags": []
          },
          "execution_count": 6
        }
      ]
    },
    {
      "cell_type": "markdown",
      "metadata": {
        "id": "9x_WFDfLQTJg",
        "colab_type": "text"
      },
      "source": [
        " If we use the inequality operator, the output is going to be **True** as the strings are not equal."
      ]
    },
    {
      "cell_type": "code",
      "metadata": {
        "jupyter": {
          "outputs_hidden": false
        },
        "id": "787X1QDJQTJh",
        "colab_type": "code",
        "colab": {},
        "outputId": "49c5adee-36ef-4c3e-ef53-708d572eca6f"
      },
      "source": [
        "# Use Inequality sign to compare the strings\n",
        "\n",
        "\"ACDC\" != \"Michael Jackson\""
      ],
      "execution_count": 0,
      "outputs": [
        {
          "output_type": "execute_result",
          "data": {
            "text/plain": [
              "True"
            ]
          },
          "metadata": {
            "tags": []
          },
          "execution_count": 7
        }
      ]
    },
    {
      "cell_type": "markdown",
      "metadata": {
        "id": "izd83y3PQTJj",
        "colab_type": "text"
      },
      "source": [
        "Inequality operation is also used to compare the letters/words/symbols according to the ASCII value of letters. The decimal value shown in the following table represents the order of the character:\n"
      ]
    },
    {
      "cell_type": "markdown",
      "metadata": {
        "id": "UhZnzLCEQTJk",
        "colab_type": "text"
      },
      "source": [
        "For example, the ASCII code for <b>!</b> is 21, while the ASCII code for <b>+</b> is 43. Therefore <b>+</b> is larger than <b>!</b> as 43 is greater than 21."
      ]
    },
    {
      "cell_type": "markdown",
      "metadata": {
        "id": "1elegnfdQTJk",
        "colab_type": "text"
      },
      "source": [
        "Similarly, the value for <b>A</b> is 101, and the value for <b>B</b> is 102 therefore:"
      ]
    },
    {
      "cell_type": "code",
      "metadata": {
        "jupyter": {
          "outputs_hidden": false
        },
        "id": "8N5kxxXxQTJl",
        "colab_type": "code",
        "colab": {},
        "outputId": "22bbce6c-43e4-400f-9983-b5050cbb1090"
      },
      "source": [
        "# Compare characters\n",
        "\n",
        "'B' > 'A'"
      ],
      "execution_count": 0,
      "outputs": [
        {
          "output_type": "execute_result",
          "data": {
            "text/plain": [
              "True"
            ]
          },
          "metadata": {
            "tags": []
          },
          "execution_count": 8
        }
      ]
    },
    {
      "cell_type": "markdown",
      "metadata": {
        "id": "QtZbFUoJQTJn",
        "colab_type": "text"
      },
      "source": [
        " When there are multiple letters, the first letter takes precedence in ordering:"
      ]
    },
    {
      "cell_type": "code",
      "metadata": {
        "id": "EDEn1IyxQTJo",
        "colab_type": "code",
        "colab": {},
        "outputId": "bdb4ba37-c153-4fdd-b7c3-618460853a51"
      },
      "source": [
        "# Compare characters\n",
        "\n",
        "'BA' > 'AB'"
      ],
      "execution_count": 0,
      "outputs": [
        {
          "output_type": "execute_result",
          "data": {
            "text/plain": [
              "True"
            ]
          },
          "metadata": {
            "tags": []
          },
          "execution_count": 9
        }
      ]
    },
    {
      "cell_type": "markdown",
      "metadata": {
        "id": "ITGCTCt1QTJr",
        "colab_type": "text"
      },
      "source": [
        "<b>Note</b>: Upper Case Letters have different ASCII code than Lower Case Letters, which means the comparison between the letters in python is case-sensitive."
      ]
    },
    {
      "cell_type": "markdown",
      "metadata": {
        "id": "SkjIkHSTQTJs",
        "colab_type": "text"
      },
      "source": [
        "<h3 id=\"branch\">Branching</h3>"
      ]
    },
    {
      "cell_type": "markdown",
      "metadata": {
        "id": "tY9w7CTmQTJt",
        "colab_type": "text"
      },
      "source": [
        " Branching allows us to run different statements for different inputs. It is helpful to think of an **if statement** as a locked room, if the statement is **True** we can enter the room and your program will run some predefined tasks, but if the statement is **False** the program will ignore the task.\n"
      ]
    },
    {
      "cell_type": "markdown",
      "metadata": {
        "id": "lIbIhaHvQTJu",
        "colab_type": "text"
      },
      "source": [
        "For example, consider the blue rectangle representing an ACDC concert. If the individual is older than 18, they can enter the ACDC concert. If they are 18 or younger than 18 they cannot enter the concert.\n",
        "\n",
        "Use the condition statements learned before as the conditions need to be checked in the **if statement**. The syntax is as simple as <code> if <i>condition statement</i> :</code>, which contains a word <code>if</code>, any condition statement, and a colon at the end. Start your tasks which need to be executed under this condition in a new line with an indent. The lines of code after the colon and with an indent will only be executed when the **if statement** is **True**. The tasks will end when the line of code does not contain the indent.\n",
        "\n",
        "In the case below, the tasks executed <code>print(“you can enter”)</code> only occurs if the variable <code>age</code> is greater than 18 is a True case because this line of code has the indent. However, the execution of <code>print(“move on”)</code> will not be influenced by the if statement."
      ]
    },
    {
      "cell_type": "code",
      "metadata": {
        "jupyter": {
          "outputs_hidden": false
        },
        "id": "LMJ6M9nyQTJv",
        "colab_type": "code",
        "colab": {},
        "outputId": "0eff7d17-604d-4936-fb48-b5d7525b9fed"
      },
      "source": [
        "# If statement example\n",
        "\n",
        "age = 19\n",
        "age = 18\n",
        "\n",
        "#expression that can be true or false\n",
        "if age > 18:\n",
        "    \n",
        "    #within an indent, we have the expression that is run if the condition is true\n",
        "    print(\"you can enter\" )\n",
        "\n",
        "#The statements after the if statement will run regardless if the condition is true or false \n",
        "print(\"move on\")"
      ],
      "execution_count": 0,
      "outputs": [
        {
          "output_type": "stream",
          "text": [
            "move on\n"
          ],
          "name": "stdout"
        }
      ]
    },
    {
      "cell_type": "markdown",
      "metadata": {
        "id": "k_8ZO7MQQTJz",
        "colab_type": "text"
      },
      "source": [
        "<i>Try uncommenting the age variable</i>"
      ]
    },
    {
      "cell_type": "markdown",
      "metadata": {
        "id": "3usTS7nPQTJ0",
        "colab_type": "text"
      },
      "source": [
        "It is helpful to use the following diagram to illustrate the process. On the left side, we see what happens when the condition is <b>True</b>.  The person enters the ACDC concert representing the code in the indent being executed; they then move on. On the right side, we see what happens when the condition is <b>False</b>; the person is not granted access, and the person moves on. In this case, the segment of code in the indent does not run, but the rest of the statements are run. "
      ]
    },
    {
      "cell_type": "markdown",
      "metadata": {
        "id": "5uYYI13MQTJ1",
        "colab_type": "text"
      },
      "source": [
        "<img src=\"https://s3-api.us-geo.objectstorage.softlayer.net/cf-courses-data/CognitiveClass/PY0101EN/Chapter%203/Images/CondsIf.gif\" width=\"650\" />"
      ]
    },
    {
      "cell_type": "markdown",
      "metadata": {
        "id": "78A857XeQTJ1",
        "colab_type": "text"
      },
      "source": [
        "The <code>else</code> statement runs a block of code if none of the conditions are **True** before this <code>else</code> statement. Let's use the ACDC concert analogy again. If the user is 17 they cannot go to the ACDC concert,  but they can go to the Meatloaf concert.\n",
        "The syntax of the <code>else</code> statement is similar as the syntax of the <code>if</code> statement, as <code>else :</code>. Notice that, there is no condition statement for <code>else</code>.\n",
        "Try changing the values of <code>age</code> to see what happens:  "
      ]
    },
    {
      "cell_type": "code",
      "metadata": {
        "jupyter": {
          "outputs_hidden": false
        },
        "id": "7Goxh7bvQTJ2",
        "colab_type": "code",
        "colab": {},
        "outputId": "bbd94f91-fcb0-4371-de95-9836b8529ac3"
      },
      "source": [
        "# Else statement example\n",
        "\n",
        "age = 18\n",
        "age = 19\n",
        "\n",
        "if age > 18:\n",
        "    print(\"you can enter\" )\n",
        "else:\n",
        "    print(\"go see Meat Loaf\" )\n",
        "    \n",
        "print(\"move on\")"
      ],
      "execution_count": 0,
      "outputs": [
        {
          "output_type": "stream",
          "text": [
            "you can enter\n",
            "move on\n"
          ],
          "name": "stdout"
        }
      ]
    },
    {
      "cell_type": "markdown",
      "metadata": {
        "id": "QjZPwzwkQTJ4",
        "colab_type": "text"
      },
      "source": [
        "The process is demonstrated below, where each of the possibilities is illustrated on each side of the image. On the left is the case where the age is 17, we set the variable age to 17, and this corresponds to the individual attending the Meatloaf concert. The right portion shows what happens when the individual is over 18, in this case 19, and the individual is granted access to the concert."
      ]
    },
    {
      "cell_type": "markdown",
      "metadata": {
        "id": "mHu3ToSKQTJ4",
        "colab_type": "text"
      },
      "source": [
        "<img src=\"https://s3-api.us-geo.objectstorage.softlayer.net/cf-courses-data/CognitiveClass/PY0101EN/Chapter%203/Images/CondsElse.gif\" width=\"650\" />"
      ]
    },
    {
      "cell_type": "markdown",
      "metadata": {
        "id": "4l7qyS6SQTJ5",
        "colab_type": "text"
      },
      "source": [
        "The <code>elif</code> statement, short for else if, allows us to check additional conditions if the condition statements before it are <b>False</b>. If the condition for the <code>elif</code> statement is <b>True</b>, the alternate expressions will be run. Consider the concert example, where if the individual is 18 they will go to the Pink Floyd concert instead of attending the ACDC or Meat-loaf concert. The person of 18 years of age enters the area, and as they are not older than 18 they can not see ACDC, but as they are 18 years of age, they attend  Pink Floyd. After seeing Pink Floyd, they move on. The syntax of the <code>elif</code> statement is similar in that we merely change the <code>if</code> in <code>if</code> statement to <code>elif</code>."
      ]
    },
    {
      "cell_type": "code",
      "metadata": {
        "jupyter": {
          "outputs_hidden": false
        },
        "id": "BnF5pf-iQTJ5",
        "colab_type": "code",
        "colab": {},
        "outputId": "74ef98cb-a600-4151-8805-4955448fadf9"
      },
      "source": [
        "# Elif statment example\n",
        "\n",
        "age = 18\n",
        "\n",
        "if age > 18:\n",
        "    print(\"you can enter\" )\n",
        "elif age == 18:\n",
        "    print(\"go see Pink Floyd\")\n",
        "else:\n",
        "    print(\"go see Meat Loaf\" )\n",
        "    \n",
        "print(\"move on\")"
      ],
      "execution_count": 0,
      "outputs": [
        {
          "output_type": "stream",
          "text": [
            "go see Pink Floyd\n",
            "move on\n"
          ],
          "name": "stdout"
        }
      ]
    },
    {
      "cell_type": "markdown",
      "metadata": {
        "id": "O16ps_M5QTJ8",
        "colab_type": "text"
      },
      "source": [
        "The three combinations are shown in the figure below.  The left-most region shows what happens when the individual is less than 18 years of age. The central component shows when the individual is exactly 18. The rightmost shows when the individual is over 18."
      ]
    },
    {
      "cell_type": "markdown",
      "metadata": {
        "id": "uj3D9zrWQTJ8",
        "colab_type": "text"
      },
      "source": [
        "<img src =\"https://s3-api.us-geo.objectstorage.softlayer.net/cf-courses-data/CognitiveClass/PY0101EN/Chapter%203/Images/CondsElif.gif\" width=\"650\" />"
      ]
    },
    {
      "cell_type": "markdown",
      "metadata": {
        "id": "DDT17ZsRQTJ9",
        "colab_type": "text"
      },
      "source": [
        " Look at the following code:\n"
      ]
    },
    {
      "cell_type": "code",
      "metadata": {
        "jupyter": {
          "outputs_hidden": false
        },
        "id": "m1bvULeXQTJ9",
        "colab_type": "code",
        "colab": {},
        "outputId": "bbc1b682-5f8a-41f5-92ac-e2b8f3835534"
      },
      "source": [
        "# Condition statement example\n",
        "\n",
        "album_year = 1983\n",
        "album_year = 1979\n",
        "\n",
        "if album_year > 1980:\n",
        "    print(\"Album year is greater than 1980\")\n",
        "elif album_year==1971:\n",
        "        print(\"No\") \n",
        "else:\n",
        "        print(\"Less than 1980\")\n",
        "print('do something..')"
      ],
      "execution_count": 0,
      "outputs": [
        {
          "output_type": "stream",
          "text": [
            "Less than 1980\n",
            "do something..\n"
          ],
          "name": "stdout"
        }
      ]
    },
    {
      "cell_type": "markdown",
      "metadata": {
        "id": "hqxuU3yQQTJ_",
        "colab_type": "text"
      },
      "source": [
        "Feel free to change <code>album_year</code> value to other values -- you'll see that the result changes!"
      ]
    },
    {
      "cell_type": "markdown",
      "metadata": {
        "id": "EZjscUd3QTKA",
        "colab_type": "text"
      },
      "source": [
        "Notice that the code in the above <b>indented</b> block will only be executed if the results are <b>True</b>. "
      ]
    },
    {
      "cell_type": "markdown",
      "metadata": {
        "id": "mwDG0nXtQTKA",
        "colab_type": "text"
      },
      "source": [
        "As before, we can add an <code>else</code> block to the <code>if</code> block. The code in the <code>else</code> block will only be executed if the result is <b>False</b>.\n",
        "\n",
        "\n",
        "<b>Syntax:</b> \n",
        "\n",
        "if (condition):\n",
        "    # do something\n",
        "else:\n",
        "    # do something else"
      ]
    },
    {
      "cell_type": "markdown",
      "metadata": {
        "id": "0f75ZmjlQTKB",
        "colab_type": "text"
      },
      "source": [
        "If the condition in the <code>if</code> statement is <b>False</b>, the statement after the <code>else</code> block will execute. This is demonstrated in the figure: "
      ]
    },
    {
      "cell_type": "markdown",
      "metadata": {
        "id": "Zl84Z1rYQTKC",
        "colab_type": "text"
      },
      "source": [
        "<img src=\"https://s3-api.us-geo.objectstorage.softlayer.net/cf-courses-data/CognitiveClass/PY0101EN/Chapter%203/Images/CondsLogicMap.png\" width=\"650\" />"
      ]
    },
    {
      "cell_type": "code",
      "metadata": {
        "jupyter": {
          "outputs_hidden": false
        },
        "id": "51RnbqkDQTKD",
        "colab_type": "code",
        "colab": {},
        "outputId": "2ef73f55-83ef-43c0-8505-2dbc458e4bf5"
      },
      "source": [
        "# Condition statement example\n",
        "\n",
        "album_year = 1983\n",
        "album_year = 1970\n",
        "\n",
        "if album_year > 1980:\n",
        "    print(\"Album year is greater than 1980\")\n",
        "else:\n",
        "    print(\"less than 1980\")\n",
        "\n",
        "print('do something..')"
      ],
      "execution_count": 0,
      "outputs": [
        {
          "output_type": "stream",
          "text": [
            "less than 1980\n",
            "do something..\n"
          ],
          "name": "stdout"
        }
      ]
    },
    {
      "cell_type": "markdown",
      "metadata": {
        "id": "I-7OgvPQQTKI",
        "colab_type": "text"
      },
      "source": [
        "Feel free to change the <code>album_year</code> value to other values -- you'll see that the result changes based on it!"
      ]
    },
    {
      "cell_type": "markdown",
      "metadata": {
        "id": "aWPmd4kQQTKJ",
        "colab_type": "text"
      },
      "source": [
        "<h3 id=\"logic\">Logical operators</h3>"
      ]
    },
    {
      "cell_type": "markdown",
      "metadata": {
        "id": "9J9hChP8QTKJ",
        "colab_type": "text"
      },
      "source": [
        "\n",
        "Sometimes you want to check more than one condition at once. For example, you might want to check if one condition and another condition is **True**. Logical operators allow you to combine or modify conditions.\n",
        "<ul>\n",
        "    <li><code>and</code></li>\n",
        "    <li><code>or</code></li>\n",
        "    <li><code>not</code></li>\n",
        "</ul>\n",
        "\n",
        "These operators are summarized for two variables using the following truth tables:  "
      ]
    },
    {
      "cell_type": "markdown",
      "metadata": {
        "id": "Zr_QfM-dQTKK",
        "colab_type": "text"
      },
      "source": [
        "<img src=\"https://s3-api.us-geo.objectstorage.softlayer.net/cf-courses-data/CognitiveClass/PY0101EN/Chapter%203/Images/CondsTable.png\" width=\"650\" />"
      ]
    },
    {
      "cell_type": "markdown",
      "metadata": {
        "id": "QOLeekXaQTKL",
        "colab_type": "text"
      },
      "source": [
        "The <code>and</code> statement is only **True** when both conditions are true. The <code>or</code> statement is true if one condition is **True**. The <code>not</code> statement outputs the opposite truth value."
      ]
    },
    {
      "cell_type": "markdown",
      "metadata": {
        "id": "2SvpnIAOQTKM",
        "colab_type": "text"
      },
      "source": [
        "Let's see how to determine if an album was released after 1979 (1979 is not included) and before 1990 (1990 is not included). The time periods between 1980 and 1989 satisfy this condition. This is demonstrated in the figure below. The green on lines <strong>a</strong> and <strong>b</strong> represents periods where the statement is **True**. The green on line <strong>c</strong> represents where both conditions are **True**, this corresponds to where the green regions overlap. \n",
        "\n"
      ]
    },
    {
      "cell_type": "markdown",
      "metadata": {
        "id": "FB4H63V_QTKM",
        "colab_type": "text"
      },
      "source": [
        "<img src=\"https://s3-api.us-geo.objectstorage.softlayer.net/cf-courses-data/CognitiveClass/PY0101EN/Chapter%203/Images/CondsEgOne.png\" width=\"650\" />"
      ]
    },
    {
      "cell_type": "markdown",
      "metadata": {
        "id": "CfCkeNp2QTKN",
        "colab_type": "text"
      },
      "source": [
        " The block of code to perform this check is given by:"
      ]
    },
    {
      "cell_type": "code",
      "metadata": {
        "jupyter": {
          "outputs_hidden": false
        },
        "id": "2IdS1FULQTKN",
        "colab_type": "code",
        "colab": {},
        "outputId": "46cc9eaf-e619-4788-b840-ef3c604d7783"
      },
      "source": [
        "# Condition statement example\n",
        "\n",
        "album_year = 1979\n",
        "\n",
        "if(album_year > 1979) and (album_year < 1990):\n",
        "    print (\"Album year was in between 1980 and 1989\")\n",
        "    \n",
        "print(\"\")\n",
        "print(\"Do Stuff..\")"
      ],
      "execution_count": 0,
      "outputs": [
        {
          "output_type": "stream",
          "text": [
            "\n",
            "Do Stuff..\n"
          ],
          "name": "stdout"
        }
      ]
    },
    {
      "cell_type": "markdown",
      "metadata": {
        "id": "nqhfy0_LQTKQ",
        "colab_type": "text"
      },
      "source": [
        "To determine if an album was released before 1980 (~ - 1979) or after 1989 (1990 - ~), an **or** statement can be used. Periods before 1980 (~ - 1979) or after 1989 (1990 - ~) satisfy this condition. This is demonstrated in the following figure, the color green in <strong>a</strong> and <strong>b</strong> represents periods where the statement is true. The color green in **c** represents where at least one of the conditions \n",
        "are true.  \n"
      ]
    },
    {
      "cell_type": "markdown",
      "metadata": {
        "id": "YnIrqqBhQTKQ",
        "colab_type": "text"
      },
      "source": [
        "<img src=\"https://s3-api.us-geo.objectstorage.softlayer.net/cf-courses-data/CognitiveClass/PY0101EN/Chapter%203/Images/CondsEgTwo.png\" width=\"650\" />"
      ]
    },
    {
      "cell_type": "markdown",
      "metadata": {
        "id": "I8RCVzNsQTKQ",
        "colab_type": "text"
      },
      "source": [
        "The block of code to perform this check is given by:"
      ]
    },
    {
      "cell_type": "code",
      "metadata": {
        "jupyter": {
          "outputs_hidden": false
        },
        "id": "sp_6GpjnQTKR",
        "colab_type": "code",
        "colab": {},
        "outputId": "f805026a-29ad-48d1-89dc-344f470de9bd"
      },
      "source": [
        "# Condition statement example\n",
        "\n",
        "album_year = 1990\n",
        "\n",
        "if(album_year < 1980) or (album_year > 1989):\n",
        "    print (\"Album was not made in the 1980's\")\n",
        "else:\n",
        "    print(\"The Album was made in the 1980's \")"
      ],
      "execution_count": 0,
      "outputs": [
        {
          "output_type": "stream",
          "text": [
            "Album was not made in the 1980's\n"
          ],
          "name": "stdout"
        }
      ]
    },
    {
      "cell_type": "markdown",
      "metadata": {
        "id": "w0PH_T8_QTKV",
        "colab_type": "text"
      },
      "source": [
        "The <code>not</code> statement checks if the statement is false:"
      ]
    },
    {
      "cell_type": "code",
      "metadata": {
        "jupyter": {
          "outputs_hidden": false
        },
        "id": "WUVUfRQvQTKW",
        "colab_type": "code",
        "colab": {}
      },
      "source": [
        "# Condition statement example\n",
        "\n",
        "album_year = 1984\n",
        "\n",
        "if not (album_year == 1984):\n",
        "    print (\"Album year is not 1984\")"
      ],
      "execution_count": 0,
      "outputs": []
    },
    {
      "cell_type": "markdown",
      "metadata": {
        "id": "qiwRiMqUQTKY",
        "colab_type": "text"
      },
      "source": [
        "<hr>"
      ]
    },
    {
      "cell_type": "markdown",
      "metadata": {
        "id": "k97MwQ4EQTKZ",
        "colab_type": "text"
      },
      "source": [
        "<h2 id=\"quiz\">Quiz on Conditions</h2>"
      ]
    },
    {
      "cell_type": "markdown",
      "metadata": {
        "id": "Wf7Rv1pdQTKZ",
        "colab_type": "text"
      },
      "source": [
        "Write an if statement to determine if an album had a rating greater than 8. Test it using the rating for the album <b>“Back in Black”</b> that had a rating of 8.5. If the statement is true print \"This album is Amazing!\""
      ]
    },
    {
      "cell_type": "code",
      "metadata": {
        "id": "6kFJvX8bQTKZ",
        "colab_type": "code",
        "colab": {},
        "outputId": "a3bc1358-01a0-4735-b56b-f76655e0b5a2"
      },
      "source": [
        "# Write your code below and press Shift+Enter to execute\n",
        "\n",
        "album_rating = 8.5\n",
        "\n",
        "if album_rating > 8:\n",
        "    print (\"This album is Amazing\")\n",
        "    "
      ],
      "execution_count": 0,
      "outputs": [
        {
          "output_type": "stream",
          "text": [
            "This album is Amazing\n"
          ],
          "name": "stdout"
        }
      ]
    },
    {
      "cell_type": "markdown",
      "metadata": {
        "id": "eld2ltEwQTKb",
        "colab_type": "text"
      },
      "source": [
        "Double-click __here__ for the solution.\n",
        "\n",
        "<!-- \n",
        "rating = 8.5\n",
        "if rating > 8:\n",
        "    print (\"This album is Amazing!\")\n",
        " -->"
      ]
    },
    {
      "cell_type": "markdown",
      "metadata": {
        "id": "DCEdBWauQTKc",
        "colab_type": "text"
      },
      "source": [
        "<hr>"
      ]
    },
    {
      "cell_type": "markdown",
      "metadata": {
        "id": "32b8qqrkQTKc",
        "colab_type": "text"
      },
      "source": [
        "Write an if-else statement that performs the following. If the rating is larger then eight print “this album is amazing”. If the rating is less than or equal to 8 print “this album is ok”."
      ]
    },
    {
      "cell_type": "code",
      "metadata": {
        "id": "F9-w1EAZQTKd",
        "colab_type": "code",
        "colab": {},
        "outputId": "77fb61de-acb5-4467-9d6a-b2e3568f40df"
      },
      "source": [
        "# Write your code below and press Shift+Enter to execute\n",
        "\n",
        "rating = 8.9\n",
        "\n",
        "if rating>8:\n",
        "    print(\"this album is amazing\")\n",
        "else:\n",
        "    print(\"this album is ok\")"
      ],
      "execution_count": 0,
      "outputs": [
        {
          "output_type": "stream",
          "text": [
            "this album is amazing\n"
          ],
          "name": "stdout"
        }
      ]
    },
    {
      "cell_type": "markdown",
      "metadata": {
        "id": "q2jKbiSXQTKg",
        "colab_type": "text"
      },
      "source": [
        "Double-click __here__ for the solution.\n",
        "\n",
        "<!-- \n",
        "rating = 8.5\n",
        "if rating > 8:\n",
        "    print (\"this album is amazing\")\n",
        "else:\n",
        "    print (\"this album is ok\")\n",
        "-->"
      ]
    },
    {
      "cell_type": "markdown",
      "metadata": {
        "id": "-wlQ5lWLQTKh",
        "colab_type": "text"
      },
      "source": [
        "<hr>"
      ]
    },
    {
      "cell_type": "markdown",
      "metadata": {
        "id": "HEOFkzoaQTKi",
        "colab_type": "text"
      },
      "source": [
        "Write an if statement to determine if an album came out before 1980 or in the years: 1991 or 1993. If the condition is true print out the year the album came out."
      ]
    },
    {
      "cell_type": "code",
      "metadata": {
        "jupyter": {
          "outputs_hidden": false
        },
        "id": "p-mU6LSSQTKl",
        "colab_type": "code",
        "colab": {},
        "outputId": "937632ef-8519-425b-d544-4a8219e584ee"
      },
      "source": [
        "# Write your code below and press Shift+Enter to execute\n",
        "\n",
        "year= 1993\n",
        "\n",
        "if year <1980 or year ==1991 or year ==1993:\n",
        "    print(year)"
      ],
      "execution_count": 0,
      "outputs": [
        {
          "output_type": "stream",
          "text": [
            "1993\n"
          ],
          "name": "stdout"
        }
      ]
    },
    {
      "cell_type": "markdown",
      "metadata": {
        "id": "wgtDGMSnQTKo",
        "colab_type": "text"
      },
      "source": [
        "Double-click __here__ for the solution.\n",
        "\n",
        "<!-- \n",
        "album_year = 1979\n",
        "\n",
        "if album_year < 1980 or album_year == 1991 or album_year == 1993:\n",
        "    print (\"this album came out already\")\n",
        "-->"
      ]
    },
    {
      "cell_type": "markdown",
      "metadata": {
        "id": "NNwj8dDkQTKo",
        "colab_type": "text"
      },
      "source": [
        "<hr>\n",
        "<h2>The last exercise!</h2>\n",
        "<p>Congratulations, you have completed your first lesson and hands-on lab in Python. However, there is one more thing you need to do. The Data Science community encourages sharing work. The best way to share and showcase your work is to share it on GitHub. By sharing your notebook on GitHub you are not only building your reputation with fellow data scientists, but you can also show it off when applying for a job. Even though this was your first piece of work, it is never too early to start building good habits. So, please read and follow <a href=\"https://cognitiveclass.ai/blog/data-scientists-stand-out-by-sharing-your-notebooks/\" target=\"_blank\">this article</a> to learn how to share your work.\n",
        "<hr>"
      ]
    },
    {
      "cell_type": "markdown",
      "metadata": {
        "id": "D7yHe_tRQTKo",
        "colab_type": "text"
      },
      "source": [
        "<div class=\"alert alert-block alert-info\" style=\"margin-top: 20px\">\n",
        "<h2>Get IBM Watson Studio free of charge!</h2>\n",
        "    <p><a href=\"https://cocl.us/NotebooksPython101bottom\"><img src=\"https://s3-api.us-geo.objectstorage.softlayer.net/cf-courses-data/CognitiveClass/PY0101EN/Ad/BottomAd.png\" width=\"750\" align=\"center\"></a></p>\n",
        "</div>"
      ]
    },
    {
      "cell_type": "markdown",
      "metadata": {
        "id": "c6PsVMMAQTKp",
        "colab_type": "text"
      },
      "source": [
        "<h3>About the Authors:</h3>  \n",
        "<p><a href=\"https://www.linkedin.com/in/joseph-s-50398b136/\" target=\"_blank\">Joseph Santarcangelo</a> is a Data Scientist at IBM, and holds a PhD in Electrical Engineering. His research focused on using Machine Learning, Signal Processing, and Computer Vision to determine how videos impact human cognition. Joseph has been working for IBM since he completed his PhD.</p>"
      ]
    },
    {
      "cell_type": "markdown",
      "metadata": {
        "id": "rZdflj9MQTKp",
        "colab_type": "text"
      },
      "source": [
        "Other contributors: <a href=\"www.linkedin.com/in/jiahui-mavis-zhou-a4537814a\">Mavis Zhou</a>"
      ]
    },
    {
      "cell_type": "markdown",
      "metadata": {
        "id": "kFE2Tt8bQTKq",
        "colab_type": "text"
      },
      "source": [
        "<hr>"
      ]
    },
    {
      "cell_type": "markdown",
      "metadata": {
        "id": "EkX5ib9NQTKq",
        "colab_type": "text"
      },
      "source": [
        "<p>Copyright &copy; 2018 IBM Developer Skills Network. This notebook and its source code are released under the terms of the <a href=\"https://cognitiveclass.ai/mit-license/\">MIT License</a>.</p>"
      ]
    }
  ]
}