{
  "nbformat": 4,
  "nbformat_minor": 0,
  "metadata": {
    "colab": {
      "name": "PY0101EN-3-2-Loops.ipynb",
      "version": "0.3.2",
      "provenance": [],
      "include_colab_link": true
    },
    "language_info": {
      "codemirror_mode": {
        "name": "ipython",
        "version": 3
      },
      "file_extension": ".py",
      "mimetype": "text/x-python",
      "name": "python",
      "nbconvert_exporter": "python",
      "pygments_lexer": "ipython3",
      "version": "3.6.7"
    },
    "kernelspec": {
      "display_name": "Python 3",
      "language": "python",
      "name": "python3"
    }
  },
  "cells": [
    {
      "cell_type": "markdown",
      "metadata": {
        "id": "view-in-github",
        "colab_type": "text"
      },
      "source": [
        "<a href=\"https://colab.research.google.com/github/Lodielaridi/Python-for-Data-Science-101-/blob/master/PY0101EN_3_2_Loops.ipynb\" target=\"_parent\"><img src=\"https://colab.research.google.com/assets/colab-badge.svg\" alt=\"Open In Colab\"/></a>"
      ]
    },
    {
      "cell_type": "markdown",
      "metadata": {
        "id": "Qb-pUSPLQYj-",
        "colab_type": "text"
      },
      "source": [
        "<div class=\"alert alert-block alert-info\" style=\"margin-top: 20px\">\n",
        "    <a href=\"https://cocl.us/NotebooksPython101\">\n",
        "         <img src=\"https://s3-api.us-geo.objectstorage.softlayer.net/cf-courses-data/CognitiveClass/PY0101EN/Ad/TopAd.png\" width=\"750\" align=\"center\">\n",
        "    </a>\n",
        "</div>"
      ]
    },
    {
      "cell_type": "markdown",
      "metadata": {
        "id": "K_mP7Yv2QYj_",
        "colab_type": "text"
      },
      "source": [
        "<a href=\"https://cognitiveclass.ai/\">\n",
        "    <img src=\"https://s3-api.us-geo.objectstorage.softlayer.net/cf-courses-data/CognitiveClass/PY0101EN/Ad/CCLog.png\" width=\"200\" align=\"center\">\n",
        "</a>"
      ]
    },
    {
      "cell_type": "markdown",
      "metadata": {
        "id": "QFBTo5NoQYkA",
        "colab_type": "text"
      },
      "source": [
        "<h1>Loops in Python</h1>"
      ]
    },
    {
      "cell_type": "markdown",
      "metadata": {
        "id": "VWeUgJ0MQYkB",
        "colab_type": "text"
      },
      "source": [
        "<p><strong>Welcome!</strong> This notebook will teach you about the loops in the Python Programming Language. By the end of this lab, you'll know how to use the loop statements in Python, including for loop, and while loop.</p>"
      ]
    },
    {
      "cell_type": "markdown",
      "metadata": {
        "id": "_B_RQgeqQYkB",
        "colab_type": "text"
      },
      "source": [
        "<h2>Table of Contents</h2>\n",
        "<div class=\"alert alert-block alert-info\" style=\"margin-top: 20px\">\n",
        "    <ul>\n",
        "        <li>\n",
        "            <a href=\"#loop\">Loops</a>\n",
        "            <ul>\n",
        "                <li><a href=\"range\">Range</a></li>\n",
        "                <li><a href=\"for\">What is <code>for</code> loop?</a></li>\n",
        "                <li><a href=\"while\">What is <code>while</code> loop?</a></li>\n",
        "            </ul>\n",
        "        </li>\n",
        "        <li>\n",
        "            <a href=\"#quiz\">Quiz on Loops</a>\n",
        "        </li>\n",
        "    </ul>\n",
        "    <p>\n",
        "        Estimated time needed: <strong>20 min</strong>\n",
        "    </p>\n",
        "</div>\n",
        "\n",
        "<hr>"
      ]
    },
    {
      "cell_type": "markdown",
      "metadata": {
        "id": "YUdaJQxUQYkC",
        "colab_type": "text"
      },
      "source": [
        "<h2 id=\"loop\">Loops</h2>"
      ]
    },
    {
      "cell_type": "markdown",
      "metadata": {
        "id": "aWnEZ_deQYkC",
        "colab_type": "text"
      },
      "source": [
        "<h3 id=\"range\">Range</h3>"
      ]
    },
    {
      "cell_type": "markdown",
      "metadata": {
        "id": "_xO68hYyQYkD",
        "colab_type": "text"
      },
      "source": [
        "Sometimes, you might want to repeat a given operation many times. Repeated executions like this are performed by <b>loops</b>. We will look at two types of loops, <code>for</code> loops and <code>while</code> loops.\n",
        "\n",
        "Before we discuss loops lets discuss the <code>range</code> object. It is helpful to think of the range object as an ordered list. For now, let's look at the simplest case. If we would like to generate a sequence that contains three elements ordered from 0 to 2 we simply use the following command:"
      ]
    },
    {
      "cell_type": "code",
      "metadata": {
        "jupyter": {
          "outputs_hidden": false
        },
        "id": "yUHCiFjGQYkE",
        "colab_type": "code",
        "colab": {},
        "outputId": "a6b7d860-af50-4c91-f1c3-a121a372d742"
      },
      "source": [
        "# Use the range\n",
        "\n",
        "range(3)"
      ],
      "execution_count": 0,
      "outputs": [
        {
          "output_type": "execute_result",
          "data": {
            "text/plain": [
              "range(0, 3)"
            ]
          },
          "metadata": {
            "tags": []
          },
          "execution_count": 1
        }
      ]
    },
    {
      "cell_type": "markdown",
      "metadata": {
        "id": "nPqWmMcVQYkL",
        "colab_type": "text"
      },
      "source": [
        "<img src=\"https://s3-api.us-geo.objectstorage.softlayer.net/cf-courses-data/CognitiveClass/PY0101EN/Chapter%203/Images/LoopsRange.png\" width=\"300\" />"
      ]
    },
    {
      "cell_type": "markdown",
      "metadata": {
        "id": "osMLXGPRQYkM",
        "colab_type": "text"
      },
      "source": [
        "<h3 id=\"for\">What is <code>for</code> loop?</h3>"
      ]
    },
    {
      "cell_type": "markdown",
      "metadata": {
        "id": "O0s47insQYkM",
        "colab_type": "text"
      },
      "source": [
        "The <code>for</code> loop enables you to execute a code block multiple times. For example, you would use this if you would like to print out every element in a list.    \n",
        "Let's try to use a <code>for</code> loop to print all the years presented in the list <code>dates</code>:"
      ]
    },
    {
      "cell_type": "markdown",
      "metadata": {
        "id": "A1V8wYjJQYkN",
        "colab_type": "text"
      },
      "source": [
        "This can be done as follows:"
      ]
    },
    {
      "cell_type": "code",
      "metadata": {
        "jupyter": {
          "outputs_hidden": false
        },
        "id": "CZ3k1UgGQYkO",
        "colab_type": "code",
        "colab": {},
        "outputId": "1c9f895c-237d-419c-b745-62e0c4e7d142"
      },
      "source": [
        "# For loop example\n",
        "\n",
        "dates = [1982,1980,1973]\n",
        "N = len(dates)\n",
        "\n",
        "for i in range(N):\n",
        "    print(dates[i])  \n",
        "print (N)"
      ],
      "execution_count": 0,
      "outputs": [
        {
          "output_type": "stream",
          "text": [
            "1982\n",
            "1980\n",
            "1973\n",
            "3\n"
          ],
          "name": "stdout"
        }
      ]
    },
    {
      "cell_type": "markdown",
      "metadata": {
        "id": "PKpvrADyQYkR",
        "colab_type": "text"
      },
      "source": [
        "The code in the indent is executed <code>N</code> times, each time the value of <code>i</code> is increased by 1 for every execution. The statement executed is to <code>print</code> out the value in the list at index <code>i</code> as shown here:"
      ]
    },
    {
      "cell_type": "markdown",
      "metadata": {
        "id": "QUAFPediQYkS",
        "colab_type": "text"
      },
      "source": [
        "<img src=\"https://s3-api.us-geo.objectstorage.softlayer.net/cf-courses-data/CognitiveClass/PY0101EN/Chapter%203/Images/LoopsForRange.gif\" width=\"800\" />"
      ]
    },
    {
      "cell_type": "markdown",
      "metadata": {
        "id": "ZMglsrKlQYkS",
        "colab_type": "text"
      },
      "source": [
        "In this example we can print out a sequence of numbers from 0 to 7:"
      ]
    },
    {
      "cell_type": "code",
      "metadata": {
        "jupyter": {
          "outputs_hidden": false
        },
        "id": "qhzOmnKPQYkT",
        "colab_type": "code",
        "colab": {},
        "outputId": "d64617bb-5c7c-45c4-bff0-18e098ac4bcf"
      },
      "source": [
        "# Example of for loop\n",
        "\n",
        "for i in range(0, 8):\n",
        "    print(i)"
      ],
      "execution_count": 0,
      "outputs": [
        {
          "output_type": "stream",
          "text": [
            "0\n",
            "1\n",
            "2\n",
            "3\n",
            "4\n",
            "5\n",
            "6\n",
            "7\n"
          ],
          "name": "stdout"
        }
      ]
    },
    {
      "cell_type": "markdown",
      "metadata": {
        "id": "TWspfRQlQYkV",
        "colab_type": "text"
      },
      "source": [
        "In Python we can directly access the elements in the list as follows: "
      ]
    },
    {
      "cell_type": "code",
      "metadata": {
        "jupyter": {
          "outputs_hidden": false
        },
        "id": "ktyC4-zGQYkW",
        "colab_type": "code",
        "colab": {},
        "outputId": "5d00146b-97f7-4891-c323-5a4445d3a8e3"
      },
      "source": [
        "# Exmaple of for loop, loop through list\n",
        "\n",
        "for year in dates:  \n",
        "    print(year)   "
      ],
      "execution_count": 0,
      "outputs": [
        {
          "output_type": "stream",
          "text": [
            "1982\n",
            "1980\n",
            "1973\n"
          ],
          "name": "stdout"
        }
      ]
    },
    {
      "cell_type": "markdown",
      "metadata": {
        "id": "LhzM98p_QYkY",
        "colab_type": "text"
      },
      "source": [
        "For each iteration, the value of the variable <code>years</code> behaves like the value of <code>dates[i]</code> in the  first example:"
      ]
    },
    {
      "cell_type": "markdown",
      "metadata": {
        "id": "8r5B4F8mQYkZ",
        "colab_type": "text"
      },
      "source": [
        "<img src=\"https://s3-api.us-geo.objectstorage.softlayer.net/cf-courses-data/CognitiveClass/PY0101EN/Chapter%203/Images/LoopsForList.gif\" width=\"800\">"
      ]
    },
    {
      "cell_type": "markdown",
      "metadata": {
        "id": "rZhP5338QYkZ",
        "colab_type": "text"
      },
      "source": [
        "We can change the elements in a list:"
      ]
    },
    {
      "cell_type": "code",
      "metadata": {
        "jupyter": {
          "outputs_hidden": false
        },
        "id": "HfoJdeqMQYka",
        "colab_type": "code",
        "colab": {},
        "outputId": "e3804286-21a0-4e2a-99d6-4f36c25f7f57"
      },
      "source": [
        "# Use for loop to change the elements in list\n",
        "\n",
        "squares = ['red', 'yellow', 'green', 'purple', 'blue']\n",
        "\n",
        "for i in range(0, 5):\n",
        "    print(\"Before square \", i, 'is',  squares[i])\n",
        "    squares[i] = 'weight'\n",
        "    print(\"After square \", i, 'is',  squares[i])"
      ],
      "execution_count": 0,
      "outputs": [
        {
          "output_type": "stream",
          "text": [
            "Before square  0 is red\n",
            "After square  0 is weight\n",
            "Before square  1 is yellow\n",
            "After square  1 is weight\n",
            "Before square  2 is green\n",
            "After square  2 is weight\n",
            "Before square  3 is purple\n",
            "After square  3 is weight\n",
            "Before square  4 is blue\n",
            "After square  4 is weight\n"
          ],
          "name": "stdout"
        }
      ]
    },
    {
      "cell_type": "markdown",
      "metadata": {
        "id": "cswFdCwEQYkd",
        "colab_type": "text"
      },
      "source": [
        " We can access the index and the elements of a list as follows: "
      ]
    },
    {
      "cell_type": "code",
      "metadata": {
        "jupyter": {
          "outputs_hidden": false
        },
        "id": "fzq4MHiSQYkd",
        "colab_type": "code",
        "colab": {},
        "outputId": "22639d7d-0257-47fc-f624-c35c17082daa"
      },
      "source": [
        "# Loop through the list and iterate on both index and element value\n",
        "\n",
        "squares=['red', 'yellow', 'green', 'purple', 'blue']\n",
        "\n",
        "for i, square in enumerate(squares):\n",
        "    print(i, square)"
      ],
      "execution_count": 0,
      "outputs": [
        {
          "output_type": "stream",
          "text": [
            "0 red\n",
            "1 yellow\n",
            "2 green\n",
            "3 purple\n",
            "4 blue\n"
          ],
          "name": "stdout"
        }
      ]
    },
    {
      "cell_type": "markdown",
      "metadata": {
        "id": "iYEs-j0XQYkf",
        "colab_type": "text"
      },
      "source": [
        "<h3 id=\"while\">What is <code>while</code> loop?</h3>"
      ]
    },
    {
      "cell_type": "markdown",
      "metadata": {
        "id": "5Ia1tyCFQYkg",
        "colab_type": "text"
      },
      "source": [
        "As you can see, the <code>for</code> loop is used for a controlled flow of repetition. However, what if we don't know when we want to stop the loop? What if we want to keep executing a code block until a certain condition is met? The <code>while</code> loop exists as a tool for repeated execution based on a condition. The code block will keep being executed until the given logical condition returns a **False** boolean value.\n"
      ]
    },
    {
      "cell_type": "markdown",
      "metadata": {
        "id": "w2p2JJoRQYkh",
        "colab_type": "text"
      },
      "source": [
        "Let’s say we would like to iterate through list <code>dates</code> and stop at the year 1973, then print out the number of iterations. This can be done with the following block of code:"
      ]
    },
    {
      "cell_type": "code",
      "metadata": {
        "jupyter": {
          "outputs_hidden": false
        },
        "id": "itbDOg2WQYki",
        "colab_type": "code",
        "colab": {},
        "outputId": "cd7078c9-6a10-4a4e-ee9a-6a036c607ae3"
      },
      "source": [
        "# While Loop Example\n",
        "\n",
        "dates = [1982, 1980, 1973, 2000]\n",
        "\n",
        "i = 0\n",
        "year = 0\n",
        "\n",
        "while(year != 1973):\n",
        "    year = dates[i]\n",
        "    i = i + 1\n",
        "    print(year)\n",
        "\n",
        "print(\"It took \", i ,\"repetitions to get out of loop.\")"
      ],
      "execution_count": 0,
      "outputs": [
        {
          "output_type": "stream",
          "text": [
            "1982\n",
            "1980\n",
            "1973\n",
            "It took  3 repetitions to get out of loop.\n"
          ],
          "name": "stdout"
        }
      ]
    },
    {
      "cell_type": "markdown",
      "metadata": {
        "id": "SzxHtDV1QYkk",
        "colab_type": "text"
      },
      "source": [
        "A while loop iterates merely until the condition in the argument is not  met, as shown in the following figure:"
      ]
    },
    {
      "cell_type": "markdown",
      "metadata": {
        "id": "vTvVKYR_QYkl",
        "colab_type": "text"
      },
      "source": [
        "<img src=\"https://s3-api.us-geo.objectstorage.softlayer.net/cf-courses-data/CognitiveClass/PY0101EN/Chapter%203/Images/LoopsWhile.gif\" width=\"650\" />"
      ]
    },
    {
      "cell_type": "markdown",
      "metadata": {
        "id": "sT5_LTiWQYkl",
        "colab_type": "text"
      },
      "source": [
        "<hr>"
      ]
    },
    {
      "cell_type": "markdown",
      "metadata": {
        "id": "R-NtBu1tQYkm",
        "colab_type": "text"
      },
      "source": [
        "<h2 id=\"quiz\">Quiz on Loops</h2>"
      ]
    },
    {
      "cell_type": "markdown",
      "metadata": {
        "id": "aZ2TPIOsQYkn",
        "colab_type": "text"
      },
      "source": [
        "Write a <code>for</code> loop the prints out all the element between <b>-5</b> and <b>5</b> using the range function."
      ]
    },
    {
      "cell_type": "code",
      "metadata": {
        "id": "nBacroCLQYkn",
        "colab_type": "code",
        "colab": {},
        "outputId": "1ac8098c-b9fb-42b3-e487-f92b8aa6c0c8"
      },
      "source": [
        "# Write your code below and press Shift+Enter to execute\n",
        "\n",
        "\n",
        "for i in range(-5,6):\n",
        " print (i)"
      ],
      "execution_count": 0,
      "outputs": [
        {
          "output_type": "stream",
          "text": [
            "-5\n",
            "-4\n",
            "-3\n",
            "-2\n",
            "-1\n",
            "0\n",
            "1\n",
            "2\n",
            "3\n",
            "4\n",
            "5\n"
          ],
          "name": "stdout"
        }
      ]
    },
    {
      "cell_type": "markdown",
      "metadata": {
        "id": "I2OLMQuyQYkq",
        "colab_type": "text"
      },
      "source": [
        "Double-click __here__ for the solution.\n",
        "<!-- \n",
        "for i in range(-5, 6):\n",
        "    print(i)\n",
        "-->"
      ]
    },
    {
      "cell_type": "markdown",
      "metadata": {
        "id": "isk3iq9AQYkq",
        "colab_type": "text"
      },
      "source": [
        "Print the elements of the following list:\n",
        "<code>Genres=[ 'rock', 'R&B', 'Soundtrack', 'R&B', 'soul', 'pop']</code>\n",
        "Make sure you follow Python conventions."
      ]
    },
    {
      "cell_type": "code",
      "metadata": {
        "id": "DrKmOefEQYks",
        "colab_type": "code",
        "colab": {},
        "outputId": "68c72633-27e4-4bbb-d479-d84cde09e026"
      },
      "source": [
        "# Write your code below and press Shift+Enter to execute\n",
        "Genres = [\"rock\", \"R&B\", \"Soundtrack\", \"R&B\", \"soul\", \"pop\"]\n",
        "\n",
        "for i in Genres:\n",
        "    print (i)"
      ],
      "execution_count": 0,
      "outputs": [
        {
          "output_type": "stream",
          "text": [
            "rock\n",
            "R&B\n",
            "Soundtrack\n",
            "R&B\n",
            "soul\n",
            "pop\n"
          ],
          "name": "stdout"
        }
      ]
    },
    {
      "cell_type": "markdown",
      "metadata": {
        "id": "Wv9Hzi78QYkx",
        "colab_type": "text"
      },
      "source": [
        "Double-click __here__ for the solution.\n",
        "<!-- \n",
        "Genres = ['rock', 'R&B', 'Soundtrack', 'R&B', 'soul', 'pop']\n",
        "for Genre in Genres:\n",
        "    print(Genre)\n",
        "-->"
      ]
    },
    {
      "cell_type": "markdown",
      "metadata": {
        "id": "ZmMmlVzKQYky",
        "colab_type": "text"
      },
      "source": [
        "<hr>"
      ]
    },
    {
      "cell_type": "markdown",
      "metadata": {
        "id": "DcL2sL58QYkz",
        "colab_type": "text"
      },
      "source": [
        "Write a for loop that prints out the following list: <code>squares=['red', 'yellow', 'green', 'purple', 'blue']</code>"
      ]
    },
    {
      "cell_type": "code",
      "metadata": {
        "id": "0sInCamUQYk0",
        "colab_type": "code",
        "colab": {},
        "outputId": "c9e3c66c-2ea3-4fda-8f90-02465ec37584"
      },
      "source": [
        "# Write your code below and press Shift+Enter to execute - will use enumerate\n",
        "squares=[\"red\",\"yellow\",\"green\",\"purple\",\"blue\"]\n",
        "\n",
        "for i, x in enumerate(squares):\n",
        "    print(i,x)\n",
        "    "
      ],
      "execution_count": 0,
      "outputs": [
        {
          "output_type": "stream",
          "text": [
            "0 red\n",
            "1 yellow\n",
            "2 green\n",
            "3 purple\n",
            "4 blue\n"
          ],
          "name": "stdout"
        }
      ]
    },
    {
      "cell_type": "markdown",
      "metadata": {
        "id": "1Pe_YFq_QYk3",
        "colab_type": "text"
      },
      "source": [
        "Double-click __here__ for the solution.\n",
        "<!-- \n",
        "squares=['red', 'yellow', 'green', 'purple', 'blue']\n",
        "for square in squares:\n",
        "    print(square)\n",
        " -->"
      ]
    },
    {
      "cell_type": "markdown",
      "metadata": {
        "id": "_dq8axKlQYk3",
        "colab_type": "text"
      },
      "source": [
        "<hr>"
      ]
    },
    {
      "cell_type": "markdown",
      "metadata": {
        "id": "2rZ47s8NQYk4",
        "colab_type": "text"
      },
      "source": [
        "Write a while loop to display the values of the Rating of an album playlist stored in the list <code>PlayListRatings</code>. If the score is less than 6, exit the loop. The list <code>PlayListRatings</code> is given by: <code>PlayListRatings = [10, 9.5, 10, 8, 7.5, 5, 10, 10]</code>"
      ]
    },
    {
      "cell_type": "code",
      "metadata": {
        "id": "1wtIyLd0QYk4",
        "colab_type": "code",
        "colab": {},
        "outputId": "b5a25c4b-95eb-4508-d3b2-9c4e3181cc2d"
      },
      "source": [
        "# Write your code below and press Shift+Enter to execute\n",
        "\n",
        "r = [10, 9.5,10, 8, 7.5, 5, 10, 10]\n",
        "\n",
        "i = 0\n",
        "\n",
        "while (r[i]>=6):\n",
        "    print(r[i])\n",
        "    i = i+1\n",
        "    \n",
        "    \n"
      ],
      "execution_count": 0,
      "outputs": [
        {
          "output_type": "stream",
          "text": [
            "10\n",
            "9.5\n",
            "10\n",
            "8\n",
            "7.5\n"
          ],
          "name": "stdout"
        }
      ]
    },
    {
      "cell_type": "markdown",
      "metadata": {
        "id": "0tZaMyTgQYk8",
        "colab_type": "text"
      },
      "source": [
        "Double-click __here__ for the solution.\n",
        "<!-- \n",
        "PlayListRatings = [10, 9.5, 10, 8, 7.5, 5, 10, 10]\n",
        "i = 1\n",
        "while(Rating >= 6):\n",
        "    print(Rating)\n",
        "    Rating = PlayListRatings[i]\n",
        "    i = i + 1\n",
        " -->"
      ]
    },
    {
      "cell_type": "markdown",
      "metadata": {
        "id": "wECtN_SDQYk8",
        "colab_type": "text"
      },
      "source": [
        "<hr>"
      ]
    },
    {
      "cell_type": "markdown",
      "metadata": {
        "id": "5YY3p8fTQYk9",
        "colab_type": "text"
      },
      "source": [
        "Write a while loop to copy the strings <code>'orange'</code> of the list <code>squares</code> to the list <code>new_squares</code>. Stop and exit the loop if the value on the list is not <code>'orange'</code>:"
      ]
    },
    {
      "cell_type": "markdown",
      "metadata": {
        "id": "PGrQD8Z3QYk9",
        "colab_type": "text"
      },
      "source": [
        "Double-click __here__ for the solution.\n",
        "<!-- \n",
        "squares = ['orange', 'orange', 'purple', 'blue ', 'orange']\n",
        "new_squares = []\n",
        "i = 0\n",
        "while(squares[i] == 'orange'):\n",
        "    new_squares.append(squares[i])\n",
        "    i = i + 1\n",
        "print (new_squares)\n",
        " -->"
      ]
    },
    {
      "cell_type": "code",
      "metadata": {
        "id": "tROpYTCZQYk-",
        "colab_type": "code",
        "colab": {}
      },
      "source": [
        "squares=[\"orange\",\"orange\",\"green\",\"purple\",\"blue\"]\n",
        "new_squares = []\n",
        "i=0\n",
        "\n",
        "while(squares[i]==\"orange\"):\n",
        "    new_squares.append(squares[i])\n",
        "    i=i+1\n",
        "print (new_squares)\n"
      ],
      "execution_count": 0,
      "outputs": []
    },
    {
      "cell_type": "code",
      "metadata": {
        "id": "OH8pqjf2QYk_",
        "colab_type": "code",
        "colab": {},
        "outputId": "a2d12ebb-6b26-4382-8820-c7ac0a3b250d"
      },
      "source": [
        "squares=[\"orange\",\"orange\",\"green\",\"purple\",\"blue\"]\n",
        "new_squares = []\n",
        "i=0\n",
        "\n",
        "while(squares[i]==\"orange\"):\n",
        "    new_squares.append(squares[i])\n",
        "    i=i+1\n",
        "print (new_squares)\n",
        "print (1)"
      ],
      "execution_count": 0,
      "outputs": [
        {
          "output_type": "stream",
          "text": [
            "['orange', 'orange']\n",
            "1\n"
          ],
          "name": "stdout"
        }
      ]
    },
    {
      "cell_type": "markdown",
      "metadata": {
        "id": "DbVLRlEwQYlB",
        "colab_type": "text"
      },
      "source": [
        "<hr>\n",
        "<h2>The last exercise!</h2>\n",
        "<p>Congratulations, you have completed your first lesson and hands-on lab in Python. However, there is one more thing you need to do. The Data Science community encourages sharing work. The best way to share and showcase your work is to share it on GitHub. By sharing your notebook on GitHub you are not only building your reputation with fellow data scientists, but you can also show it off when applying for a job. Even though this was your first piece of work, it is never too early to start building good habits. So, please read and follow <a href=\"https://cognitiveclass.ai/blog/data-scientists-stand-out-by-sharing-your-notebooks/\" target=\"_blank\">this article</a> to learn how to share your work.\n",
        "<hr>"
      ]
    },
    {
      "cell_type": "markdown",
      "metadata": {
        "id": "28pYZY9VQYlC",
        "colab_type": "text"
      },
      "source": [
        "<div class=\"alert alert-block alert-info\" style=\"margin-top: 20px\">\n",
        "<h2>Get IBM Watson Studio free of charge!</h2>\n",
        "    <p><a href=\"https://cocl.us/NotebooksPython101bottom\"><img src=\"https://s3-api.us-geo.objectstorage.softlayer.net/cf-courses-data/CognitiveClass/PY0101EN/Ad/BottomAd.png\" width=\"750\" align=\"center\"></a></p>\n",
        "</div>"
      ]
    },
    {
      "cell_type": "markdown",
      "metadata": {
        "id": "TIbYTSUjQYlD",
        "colab_type": "text"
      },
      "source": [
        "<h3>About the Authors:</h3>  \n",
        "<p><a href=\"https://www.linkedin.com/in/joseph-s-50398b136/\" target=\"_blank\">Joseph Santarcangelo</a> is a Data Scientist at IBM, and holds a PhD in Electrical Engineering. His research focused on using Machine Learning, Signal Processing, and Computer Vision to determine how videos impact human cognition. Joseph has been working for IBM since he completed his PhD.</p>"
      ]
    },
    {
      "cell_type": "markdown",
      "metadata": {
        "id": "5c6WqjgsQYlE",
        "colab_type": "text"
      },
      "source": [
        "Other contributors: <a href=\"www.linkedin.com/in/jiahui-mavis-zhou-a4537814a\">Mavis Zhou</a>, <a href=\"https://www.linkedin.com/in/reevejamesd/\">James Reeve</a>"
      ]
    },
    {
      "cell_type": "markdown",
      "metadata": {
        "id": "DV8gBb1LQYlE",
        "colab_type": "text"
      },
      "source": [
        "<hr>"
      ]
    },
    {
      "cell_type": "markdown",
      "metadata": {
        "id": "7kPWgEdnQYlF",
        "colab_type": "text"
      },
      "source": [
        "<p>Copyright &copy; 2018 IBM Developer Skills Network. This notebook and its source code are released under the terms of the <a href=\"https://cognitiveclass.ai/mit-license/\">MIT License</a>.</p>"
      ]
    }
  ]
}