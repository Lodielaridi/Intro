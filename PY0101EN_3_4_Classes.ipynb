{
  "nbformat": 4,
  "nbformat_minor": 0,
  "metadata": {
    "kernelspec": {
      "display_name": "Python 3",
      "language": "python",
      "name": "python3"
    },
    "language_info": {
      "codemirror_mode": {
        "name": "ipython",
        "version": 3
      },
      "file_extension": ".py",
      "mimetype": "text/x-python",
      "name": "python",
      "nbconvert_exporter": "python",
      "pygments_lexer": "ipython3",
      "version": "3.6.7"
    },
    "colab": {
      "name": "PY0101EN-3-4-Classes.ipynb",
      "version": "0.3.2",
      "provenance": [],
      "include_colab_link": true
    }
  },
  "cells": [
    {
      "cell_type": "markdown",
      "metadata": {
        "id": "view-in-github",
        "colab_type": "text"
      },
      "source": [
        "<a href=\"https://colab.research.google.com/github/Lodielaridi/Python-for-Data-Science-101-/blob/master/PY0101EN_3_4_Classes.ipynb\" target=\"_parent\"><img src=\"https://colab.research.google.com/assets/colab-badge.svg\" alt=\"Open In Colab\"/></a>"
      ]
    },
    {
      "cell_type": "markdown",
      "metadata": {
        "id": "gVn9PYcKSU5j",
        "colab_type": "text"
      },
      "source": [
        "<div class=\"alert alert-block alert-info\" style=\"margin-top: 20px\">\n",
        "    <a href=\"https://cocl.us/NotebooksPython101\">\n",
        "         <img src=\"https://s3-api.us-geo.objectstorage.softlayer.net/cf-courses-data/CognitiveClass/PY0101EN/Ad/TopAd.png\" width=\"750\" align=\"center\">\n",
        "    </a>\n",
        "</div>"
      ]
    },
    {
      "cell_type": "markdown",
      "metadata": {
        "id": "RqaBxV4WSU5k",
        "colab_type": "text"
      },
      "source": [
        "<a href=\"https://cognitiveclass.ai/\">\n",
        "    <img src=\"https://s3-api.us-geo.objectstorage.softlayer.net/cf-courses-data/CognitiveClass/PY0101EN/Ad/CCLog.png\" width=\"200\" align=\"center\">\n",
        "</a>"
      ]
    },
    {
      "cell_type": "markdown",
      "metadata": {
        "id": "ZVh3Nn8VSU5l",
        "colab_type": "text"
      },
      "source": [
        "<h1>Classes and Objects in Python</h1>"
      ]
    },
    {
      "cell_type": "markdown",
      "metadata": {
        "id": "yEXljKceSU5m",
        "colab_type": "text"
      },
      "source": [
        "<p>\n",
        "    <strong>Welcome!</strong> \n",
        "    Objects in programming are like objects in real life. Like life, there are different classes of objects. In this notebook, we will create two classes called Circle and Rectangle. By the end of this notebook, you will have a better idea about :\n",
        "    <ul>\n",
        "        <li>what a class is</li>\n",
        "        <li>what an attribute is</li>\n",
        "        <li>what a method is</li>\n",
        "    </ul>\n",
        "\n",
        "   Don’t worry if you don’t get it the first time, as much of the terminology is confusing. Don’t forget to do the practice tests in the notebook.\n",
        "</p>"
      ]
    },
    {
      "cell_type": "markdown",
      "metadata": {
        "id": "Ta2RIShKSU5n",
        "colab_type": "text"
      },
      "source": [
        "<h2>Table of Contents</h2>\n",
        "<div class=\"alert alert-block alert-info\" style=\"margin-top: 20px\">\n",
        "    <ul>\n",
        "        <li>\n",
        "            <a href=\"#intro\">Introduction to Classes and Objects</a>\n",
        "            <ul>\n",
        "                <li><a href=\"create\">Creating a class</a></li>\n",
        "                <li><a href=\"instance\">Instances of a Class: Objects and Attributes</a></li>\n",
        "                <li><a href=\"method\">Methods</a></li>\n",
        "            </ul>\n",
        "        </li>\n",
        "        <li><a href=\"creating\">Creating a class</a></li>\n",
        "        <li><a href=\"circle\">Creating an instance of a class Circle</a></li>\n",
        "        <li><a href=\"rect\">The Rectangle Class</a></li>\n",
        "    </ul>\n",
        "    <p>\n",
        "        Estimated time needed: <strong>40 min</strong>\n",
        "    </p>\n",
        "</div>\n",
        "\n",
        "<hr>"
      ]
    },
    {
      "cell_type": "markdown",
      "metadata": {
        "id": "E0jCQZZFSU5o",
        "colab_type": "text"
      },
      "source": [
        "<h2 id=\"intro\">Introduction to Classes and Objects</h2>"
      ]
    },
    {
      "cell_type": "markdown",
      "metadata": {
        "id": "dUHMmFcOSU5p",
        "colab_type": "text"
      },
      "source": [
        "<h3>Creating a Class</h3>"
      ]
    },
    {
      "cell_type": "markdown",
      "metadata": {
        "id": "mVHDu_7dSU5p",
        "colab_type": "text"
      },
      "source": [
        "The first part of creating a class is giving it a name: In this notebook, we will create two classes, Circle and Rectangle. We need to determine all the data that make up that class, and we call that an attribute. Think about this step as creating a blue print that we will use to create objects. In figure 1 we see two classes, circle and rectangle. Each has their attributes, they are variables. The class circle has the attribute radius and color, while the rectangle has the attribute height and width. Let’s use the visual examples of these shapes before we get to the code, as this will help you get accustomed to the vocabulary."
      ]
    },
    {
      "cell_type": "markdown",
      "metadata": {
        "id": "Q3OCk2LmSU5q",
        "colab_type": "text"
      },
      "source": [
        "<img src=\"https://s3-api.us-geo.objectstorage.softlayer.net/cf-courses-data/CognitiveClass/PY0101EN/Chapter%203/Images/ClassesClass.png\" width=\"500\" />"
      ]
    },
    {
      "cell_type": "markdown",
      "metadata": {
        "id": "bcJMu7EsSU5r",
        "colab_type": "text"
      },
      "source": [
        "<i>Figure 1: Classes circle and rectangle, and each has their own attributes. The class circle has the attribute radius and colour, the rectangle has the attribute height and width.</i>\n"
      ]
    },
    {
      "cell_type": "markdown",
      "metadata": {
        "id": "q2as42rfSU5s",
        "colab_type": "text"
      },
      "source": [
        "<h3 id=\"instance\">Instances of a Class: Objects and Attributes</h3>"
      ]
    },
    {
      "cell_type": "markdown",
      "metadata": {
        "id": "aQ-xL6feSU5s",
        "colab_type": "text"
      },
      "source": [
        "An instance of an object is the realisation of a class, and in Figure 2 we see three instances of the class circle. We give each object a name: red circle, yellow circle and green circle. Each object has different attributes, so let's focus on the attribute of colour for each object."
      ]
    },
    {
      "cell_type": "markdown",
      "metadata": {
        "id": "kUi8iPw5SU5t",
        "colab_type": "text"
      },
      "source": [
        "<img src=\"https://s3-api.us-geo.objectstorage.softlayer.net/cf-courses-data/CognitiveClass/PY0101EN/Chapter%203/Images/ClassesObj.png\" width=\"500\" />"
      ]
    },
    {
      "cell_type": "markdown",
      "metadata": {
        "id": "2bEZ8lcOSU5u",
        "colab_type": "text"
      },
      "source": [
        "<i>Figure 2: Three instances of the class circle or three objects of type circle.</i>"
      ]
    },
    {
      "cell_type": "markdown",
      "metadata": {
        "id": "-XlUQGVMSU5u",
        "colab_type": "text"
      },
      "source": [
        " The colour attribute for the red circle is the colour red, for the green circle object the colour attribute is green, and for the yellow circle the colour attribute is yellow.   \n"
      ]
    },
    {
      "cell_type": "markdown",
      "metadata": {
        "id": "GXIysd8xSU5v",
        "colab_type": "text"
      },
      "source": [
        "<h3 id=\"method\">Methods</h3>"
      ]
    },
    {
      "cell_type": "markdown",
      "metadata": {
        "id": "lC02Sf_GSU5w",
        "colab_type": "text"
      },
      "source": [
        "Methods give you a way to change or interact with the object; they are functions that interact with objects. For example, let’s say we would like to increase the radius by a specified amount of a circle. We can create a method called **add_radius(r)** that increases the radius by **r**. This is shown in figure 3, where after applying the method to the \"orange circle object\", the radius of the object increases accordingly. The “dot” notation means to apply the method to the object, which is essentially applying a function to the information in the object."
      ]
    },
    {
      "cell_type": "markdown",
      "metadata": {
        "id": "ghhY5DoPSU5x",
        "colab_type": "text"
      },
      "source": [
        "<img src=\"https://s3-api.us-geo.objectstorage.softlayer.net/cf-courses-data/CognitiveClass/PY0101EN/Chapter%203/Images/ClassesMethod.png\" width=\"500\" /> "
      ]
    },
    {
      "cell_type": "markdown",
      "metadata": {
        "id": "Tr7rDDfqSU5x",
        "colab_type": "text"
      },
      "source": [
        "<i>Figure 3: Applying the method “add_radius” to the object orange circle object.</i>"
      ]
    },
    {
      "cell_type": "markdown",
      "metadata": {
        "id": "Mm-eP8ueSU5y",
        "colab_type": "text"
      },
      "source": [
        "<hr>"
      ]
    },
    {
      "cell_type": "markdown",
      "metadata": {
        "id": "gDA9daYbSU5z",
        "colab_type": "text"
      },
      "source": [
        "<h2 id=\"creating\">Creating a Class</h2>"
      ]
    },
    {
      "cell_type": "markdown",
      "metadata": {
        "id": "TiRDcUXeSU50",
        "colab_type": "text"
      },
      "source": [
        "Now we are going to create a class circle, but first, we are going to import a library to draw the objects: "
      ]
    },
    {
      "cell_type": "code",
      "metadata": {
        "id": "QsBfsEHzSU51",
        "colab_type": "code",
        "colab": {}
      },
      "source": [
        "# Import the library\n",
        "\n",
        "import matplotlib.pyplot as plt\n",
        "%matplotlib inline  "
      ],
      "execution_count": 0,
      "outputs": []
    },
    {
      "cell_type": "markdown",
      "metadata": {
        "id": "hmA55Wa-SU53",
        "colab_type": "text"
      },
      "source": [
        " The first step in creating your own class is to use the <code>class</code> keyword, then the name of the class as shown in Figure 4. In this course the class parent will always be object: "
      ]
    },
    {
      "cell_type": "markdown",
      "metadata": {
        "id": "mCc-18iQSU54",
        "colab_type": "text"
      },
      "source": [
        "<img src=\"https://s3-api.us-geo.objectstorage.softlayer.net/cf-courses-data/CognitiveClass/PY0101EN/Chapter%203/Images/ClassesDefine.png\" width=\"400\" />"
      ]
    },
    {
      "cell_type": "markdown",
      "metadata": {
        "id": "oHdYahHfSU55",
        "colab_type": "text"
      },
      "source": [
        "<i>Figure 4: Three instances of the class circle or three objects of type circle.</i>"
      ]
    },
    {
      "cell_type": "markdown",
      "metadata": {
        "id": "KnisTx2DSU55",
        "colab_type": "text"
      },
      "source": [
        "The next step is a special method called a constructor <code>&#95;&#95;init&#95;&#95;</code>, which is used to initialize the object. The input are data attributes. The term <code>self</code> contains all the attributes in the set. For example the <code>self.color</code> gives the  value of the attribute color and <code>self.radius</code> will give you the radius of the object. We also have the method <code>add_radius()</code> with the parameter <code>r</code>, the method adds the value of <code>r</code> to the attribute radius. To access the radius we use the syntax <code>self.radius</code>. The labeled syntax is summarized in Figure 5:"
      ]
    },
    {
      "cell_type": "markdown",
      "metadata": {
        "id": "hCpb6WZ-SU56",
        "colab_type": "text"
      },
      "source": [
        "<img src=\"https://s3-api.us-geo.objectstorage.softlayer.net/cf-courses-data/CognitiveClass/PY0101EN/Chapter%203/Images/ClassesCircle.png\" width=\"600\" />"
      ]
    },
    {
      "cell_type": "markdown",
      "metadata": {
        "id": "iEqk0jv3SU57",
        "colab_type": "text"
      },
      "source": [
        "<i>Figure 5: Labeled syntax of the object circle.</i>"
      ]
    },
    {
      "cell_type": "markdown",
      "metadata": {
        "id": "snqjINB_SU58",
        "colab_type": "text"
      },
      "source": [
        "The actual object is shown below. We include the method <code>drawCircle</code> to display the image of a circle. We set the default radius to 3 and the default colour to blue:"
      ]
    },
    {
      "cell_type": "code",
      "metadata": {
        "jupyter": {
          "outputs_hidden": false
        },
        "id": "wxdiEP9JSU59",
        "colab_type": "code",
        "colab": {}
      },
      "source": [
        "# Create a class Circle\n",
        "\n",
        "class Circle(object):\n",
        "    \n",
        "    # Constructor\n",
        "    def __init__(self, radius=3, color='blue'):\n",
        "        self.radius = radius\n",
        "        self.color = color \n",
        "    \n",
        "    # Method\n",
        "    def add_radius(self, r):\n",
        "        self.radius = self.radius + r\n",
        "        return(self.radius)\n",
        "    \n",
        "    # Method\n",
        "    def drawCircle(self):\n",
        "        plt.gca().add_patch(plt.Circle((0, 0), radius=self.radius, fc=self.color))\n",
        "        plt.axis('scaled')\n",
        "        plt.show()  "
      ],
      "execution_count": 0,
      "outputs": []
    },
    {
      "cell_type": "markdown",
      "metadata": {
        "id": "-he5HPuiSU5_",
        "colab_type": "text"
      },
      "source": [
        "<hr>"
      ]
    },
    {
      "cell_type": "markdown",
      "metadata": {
        "id": "8O3nQ5u4SU6A",
        "colab_type": "text"
      },
      "source": [
        "<h2 id=\"circle\">Creating an instance of a class Circle</h2>"
      ]
    },
    {
      "cell_type": "markdown",
      "metadata": {
        "id": "iW2Z5kuISU6B",
        "colab_type": "text"
      },
      "source": [
        "Let’s create the object <code>RedCircle</code> of type Circle to do the following:"
      ]
    },
    {
      "cell_type": "code",
      "metadata": {
        "jupyter": {
          "outputs_hidden": false
        },
        "id": "tL-R3IHfSU6C",
        "colab_type": "code",
        "colab": {},
        "outputId": "7bf084c2-a3bc-4a7a-9f4e-88a6cbb0fb8a"
      },
      "source": [
        "# Create an object RedCircle\n",
        "\n",
        "RedCircle = Circle(10, 'red')\n",
        "dir (Circle)"
      ],
      "execution_count": 0,
      "outputs": [
        {
          "output_type": "execute_result",
          "data": {
            "text/plain": [
              "['__class__',\n",
              " '__delattr__',\n",
              " '__dict__',\n",
              " '__dir__',\n",
              " '__doc__',\n",
              " '__eq__',\n",
              " '__format__',\n",
              " '__ge__',\n",
              " '__getattribute__',\n",
              " '__gt__',\n",
              " '__hash__',\n",
              " '__init__',\n",
              " '__init_subclass__',\n",
              " '__le__',\n",
              " '__lt__',\n",
              " '__module__',\n",
              " '__ne__',\n",
              " '__new__',\n",
              " '__reduce__',\n",
              " '__reduce_ex__',\n",
              " '__repr__',\n",
              " '__setattr__',\n",
              " '__sizeof__',\n",
              " '__str__',\n",
              " '__subclasshook__',\n",
              " '__weakref__',\n",
              " 'add_radius',\n",
              " 'drawCircle']"
            ]
          },
          "metadata": {
            "tags": []
          },
          "execution_count": 4
        }
      ]
    },
    {
      "cell_type": "markdown",
      "metadata": {
        "id": "GTXmwspPSU6G",
        "colab_type": "text"
      },
      "source": [
        "We can use the <code>dir</code> command to get a list of the object's methods. Many of them are default Python methods."
      ]
    },
    {
      "cell_type": "code",
      "metadata": {
        "jupyter": {
          "outputs_hidden": false
        },
        "id": "ui3W3Qd9SU6H",
        "colab_type": "code",
        "colab": {},
        "outputId": "e86d6146-6bc2-4945-b638-e6492cabf19d"
      },
      "source": [
        "# Find out the methods can be used on the object RedCircle\n",
        "\n",
        "dir(RedCircle)"
      ],
      "execution_count": 0,
      "outputs": [
        {
          "output_type": "execute_result",
          "data": {
            "text/plain": [
              "['__class__',\n",
              " '__delattr__',\n",
              " '__dict__',\n",
              " '__dir__',\n",
              " '__doc__',\n",
              " '__eq__',\n",
              " '__format__',\n",
              " '__ge__',\n",
              " '__getattribute__',\n",
              " '__gt__',\n",
              " '__hash__',\n",
              " '__init__',\n",
              " '__init_subclass__',\n",
              " '__le__',\n",
              " '__lt__',\n",
              " '__module__',\n",
              " '__ne__',\n",
              " '__new__',\n",
              " '__reduce__',\n",
              " '__reduce_ex__',\n",
              " '__repr__',\n",
              " '__setattr__',\n",
              " '__sizeof__',\n",
              " '__str__',\n",
              " '__subclasshook__',\n",
              " '__weakref__',\n",
              " 'add_radius',\n",
              " 'color',\n",
              " 'drawCircle',\n",
              " 'radius']"
            ]
          },
          "metadata": {
            "tags": []
          },
          "execution_count": 6
        }
      ]
    },
    {
      "cell_type": "markdown",
      "metadata": {
        "id": "T_v9TJNCSU6K",
        "colab_type": "text"
      },
      "source": [
        "We can look at the data attributes of the object: "
      ]
    },
    {
      "cell_type": "code",
      "metadata": {
        "jupyter": {
          "outputs_hidden": false
        },
        "id": "hDOjcoEsSU6K",
        "colab_type": "code",
        "colab": {},
        "outputId": "4c0d818f-984e-413c-eab7-b0581ddd18cc"
      },
      "source": [
        "# Print the object attribute radius\n",
        "\n",
        "RedCircle.radius"
      ],
      "execution_count": 0,
      "outputs": [
        {
          "output_type": "execute_result",
          "data": {
            "text/plain": [
              "10"
            ]
          },
          "metadata": {
            "tags": []
          },
          "execution_count": 7
        }
      ]
    },
    {
      "cell_type": "code",
      "metadata": {
        "jupyter": {
          "outputs_hidden": false
        },
        "id": "vqFqIkuUSU6N",
        "colab_type": "code",
        "colab": {},
        "outputId": "a56f72f6-5fb2-40fa-df8c-b758ce9e3dae"
      },
      "source": [
        "# Print the object attribute color\n",
        "\n",
        "RedCircle.color"
      ],
      "execution_count": 0,
      "outputs": [
        {
          "output_type": "execute_result",
          "data": {
            "text/plain": [
              "'red'"
            ]
          },
          "metadata": {
            "tags": []
          },
          "execution_count": 8
        }
      ]
    },
    {
      "cell_type": "markdown",
      "metadata": {
        "id": "fb5xezQQSU6P",
        "colab_type": "text"
      },
      "source": [
        " We can change the object's data attributes: "
      ]
    },
    {
      "cell_type": "code",
      "metadata": {
        "jupyter": {
          "outputs_hidden": false
        },
        "id": "DyzeesBTSU6U",
        "colab_type": "code",
        "colab": {},
        "outputId": "133a2e7e-326a-480e-ae91-b7772c240060"
      },
      "source": [
        "# Set the object attribute radius\n",
        "\n",
        "RedCircle.radius = 200\n",
        "RedCircle.radius"
      ],
      "execution_count": 0,
      "outputs": [
        {
          "output_type": "execute_result",
          "data": {
            "text/plain": [
              "200"
            ]
          },
          "metadata": {
            "tags": []
          },
          "execution_count": 13
        }
      ]
    },
    {
      "cell_type": "markdown",
      "metadata": {
        "id": "fcOXwtzqSU6Y",
        "colab_type": "text"
      },
      "source": [
        " We can draw the object by using the method <code>drawCircle()</code>:"
      ]
    },
    {
      "cell_type": "code",
      "metadata": {
        "jupyter": {
          "outputs_hidden": false
        },
        "id": "TRKjdZxMSU6Z",
        "colab_type": "code",
        "colab": {},
        "outputId": "4dec95dc-9b78-4cea-a0d2-7f4650e57941"
      },
      "source": [
        "# Call the method drawCircle\n",
        "\n",
        "RedCircle.drawCircle()"
      ],
      "execution_count": 0,
      "outputs": [
        {
          "output_type": "display_data",
          "data": {
            "image/png": "[encoded data removed]",
            "text/plain": [
              "<Figure size 432x288 with 1 Axes>"
            ]
          },
          "metadata": {
            "tags": [],
            "needs_background": "light"
          }
        }
      ]
    },
    {
      "cell_type": "markdown",
      "metadata": {
        "id": "8rKoXlWNSU6k",
        "colab_type": "text"
      },
      "source": [
        "We can increase the radius of the circle by applying the method <code>add_radius()</code>. Let increases the radius by 2 and then by 5:  "
      ]
    },
    {
      "cell_type": "code",
      "metadata": {
        "jupyter": {
          "outputs_hidden": false
        },
        "id": "DTQHNGSKSU6n",
        "colab_type": "code",
        "colab": {},
        "outputId": "eb065feb-fe11-48fc-cc99-d100bf6a9f2f"
      },
      "source": [
        "# Use method to change the object attribute radius\n",
        "\n",
        "print('Radius of object:',RedCircle.radius)\n",
        "RedCircle.add_radius(2)\n",
        "print('Radius of object of after applying the method add_radius(2):',RedCircle.radius)\n",
        "RedCircle.add_radius(5)\n",
        "print('Radius of object of after applying the method add_radius(5):',RedCircle.radius)"
      ],
      "execution_count": 0,
      "outputs": [
        {
          "output_type": "stream",
          "text": [
            "Radius of object: 200\n",
            "Radius of object of after applying the method add_radius(2): 202\n",
            "Radius of object of after applying the method add_radius(5): 207\n"
          ],
          "name": "stdout"
        }
      ]
    },
    {
      "cell_type": "markdown",
      "metadata": {
        "id": "Q8LRLhHCSU6r",
        "colab_type": "text"
      },
      "source": [
        " Let’s  create a blue circle. As the default colour is blue, all we have to do is specify what the radius is:"
      ]
    },
    {
      "cell_type": "code",
      "metadata": {
        "jupyter": {
          "outputs_hidden": false
        },
        "id": "QmB0UOisSU6s",
        "colab_type": "code",
        "colab": {},
        "outputId": "cce1edf1-1dd2-427f-cfc8-daf442febd93"
      },
      "source": [
        "# Create a blue circle with a given radius\n",
        "\n",
        "BlueCircle = Circle(100)\n",
        "BlueCircle.radius\n",
        "\n",
        "#and then change\n",
        "BlueCircle.radius = 3\n",
        "BlueCircle.radius\n",
        "\n",
        "#and this also works:\n",
        "BlueCircle = Circle(radius=40)\n",
        "BlueCircle.drawCircle()\n"
      ],
      "execution_count": 0,
      "outputs": [
        {
          "output_type": "display_data",
          "data": {
            "image/png": "[encoded data removed]",
            "text/plain": [
              "<Figure size 432x288 with 1 Axes>"
            ]
          },
          "metadata": {
            "tags": [],
            "needs_background": "light"
          }
        }
      ]
    },
    {
      "cell_type": "markdown",
      "metadata": {
        "id": "ptMsYiL4SU6v",
        "colab_type": "text"
      },
      "source": [
        " As before we can access the attributes of the instance of the class by using the dot notation:"
      ]
    },
    {
      "cell_type": "code",
      "metadata": {
        "jupyter": {
          "outputs_hidden": false
        },
        "id": "GYNfR65vSU6w",
        "colab_type": "code",
        "colab": {},
        "outputId": "e8d2598a-0d80-44ee-d947-01f32181ca71"
      },
      "source": [
        "# Print the object attribute radius\n",
        "\n",
        "BlueCircle.radius"
      ],
      "execution_count": 0,
      "outputs": [
        {
          "output_type": "execute_result",
          "data": {
            "text/plain": [
              "40"
            ]
          },
          "metadata": {
            "tags": []
          },
          "execution_count": 25
        }
      ]
    },
    {
      "cell_type": "code",
      "metadata": {
        "jupyter": {
          "outputs_hidden": false
        },
        "id": "7M0AP-y3SU60",
        "colab_type": "code",
        "colab": {},
        "outputId": "9da65a5c-9328-480b-d57f-97a872c731dc"
      },
      "source": [
        "# Print the object attribute color\n",
        "\n",
        "BlueCircle.color"
      ],
      "execution_count": 0,
      "outputs": [
        {
          "output_type": "execute_result",
          "data": {
            "text/plain": [
              "'blue'"
            ]
          },
          "metadata": {
            "tags": []
          },
          "execution_count": 26
        }
      ]
    },
    {
      "cell_type": "markdown",
      "metadata": {
        "id": "zcdXR6PeSU62",
        "colab_type": "text"
      },
      "source": [
        " We can draw the object by using the method <code>drawCircle()</code>:"
      ]
    },
    {
      "cell_type": "code",
      "metadata": {
        "jupyter": {
          "outputs_hidden": false
        },
        "id": "fVCTvfTASU63",
        "colab_type": "code",
        "colab": {},
        "outputId": "c45e9ca0-3727-4dc2-eb97-714298242373"
      },
      "source": [
        "# Call the method drawCircle\n",
        "\n",
        "BlueCircle.drawCircle()"
      ],
      "execution_count": 0,
      "outputs": [
        {
          "output_type": "display_data",
          "data": {
            "image/png": "[encoded data removed]",
            "text/plain": [
              "<Figure size 432x288 with 1 Axes>"
            ]
          },
          "metadata": {
            "tags": [],
            "needs_background": "light"
          }
        }
      ]
    },
    {
      "cell_type": "markdown",
      "metadata": {
        "id": "su_SIGfhSU65",
        "colab_type": "text"
      },
      "source": [
        "Compare the x and y axis of the figure to the figure  for <code>RedCircle</code>; they are different."
      ]
    },
    {
      "cell_type": "markdown",
      "metadata": {
        "id": "ToIt62TXSU66",
        "colab_type": "text"
      },
      "source": [
        "<hr>"
      ]
    },
    {
      "cell_type": "markdown",
      "metadata": {
        "id": "n_mc6HToSU66",
        "colab_type": "text"
      },
      "source": [
        "<h2 id=\"rect\">The Rectangle Class</h2>"
      ]
    },
    {
      "cell_type": "markdown",
      "metadata": {
        "id": "lu1ARbeMSU67",
        "colab_type": "text"
      },
      "source": [
        "Let's create a class rectangle with the attributes of height, width and color. We will only add the method to draw the rectangle object:"
      ]
    },
    {
      "cell_type": "code",
      "metadata": {
        "id": "hQjIf9-DSU67",
        "colab_type": "code",
        "colab": {}
      },
      "source": [
        "# Create a new Rectangle class for creating a rectangle object\n",
        "\n",
        "class Rectangle(object):\n",
        "    \n",
        "    # Constructor\n",
        "    def __init__(self, width=2, height=3, color='r'):\n",
        "        self.height = height \n",
        "        self.width = width\n",
        "        self.color = color\n",
        "    \n",
        "    # Method\n",
        "    \n",
        "    def drawRectangle(self):\n",
        "        plt.gca().add_patch(plt.Rectangle((0, 0), self.width, self.height ,fc=self.color))\n",
        "        plt.axis('scaled')\n",
        "        plt.show()"
      ],
      "execution_count": 0,
      "outputs": []
    },
    {
      "cell_type": "markdown",
      "metadata": {
        "id": "mdLVJG50SU69",
        "colab_type": "text"
      },
      "source": [
        "Let’s create the object <code>SkinnyBlueRectangle</code> of type Rectangle. Its width will be 2 and height will be 3, and the color will be blue:"
      ]
    },
    {
      "cell_type": "code",
      "metadata": {
        "jupyter": {
          "outputs_hidden": false
        },
        "id": "1PPt7TOkSU69",
        "colab_type": "code",
        "colab": {}
      },
      "source": [
        "# Create a new object rectangle\n",
        "\n",
        "SkinnyBlueRectangle = Rectangle(2,3,'b')"
      ],
      "execution_count": 0,
      "outputs": []
    },
    {
      "cell_type": "markdown",
      "metadata": {
        "id": "S5eJZfQQSU6_",
        "colab_type": "text"
      },
      "source": [
        " As before we can access the attributes of the instance of the class by using the dot notation:"
      ]
    },
    {
      "cell_type": "code",
      "metadata": {
        "jupyter": {
          "outputs_hidden": false
        },
        "id": "Pq2Bl445SU6_",
        "colab_type": "code",
        "colab": {},
        "outputId": "6739527e-0311-4dff-95c1-1fe71a7b4476"
      },
      "source": [
        "# Print the object attribute height\n",
        "\n",
        "SkinnyBlueRectangle.height "
      ],
      "execution_count": 0,
      "outputs": [
        {
          "output_type": "execute_result",
          "data": {
            "text/plain": [
              "3"
            ]
          },
          "metadata": {
            "tags": []
          },
          "execution_count": 35
        }
      ]
    },
    {
      "cell_type": "code",
      "metadata": {
        "jupyter": {
          "outputs_hidden": false
        },
        "id": "HWwR0uQGSU7C",
        "colab_type": "code",
        "colab": {},
        "outputId": "3988281b-39bc-423c-c24c-4b73198b9d2d"
      },
      "source": [
        "# Print the object attribute width\n",
        "\n",
        "SkinnyBlueRectangle.width"
      ],
      "execution_count": 0,
      "outputs": [
        {
          "output_type": "execute_result",
          "data": {
            "text/plain": [
              "2"
            ]
          },
          "metadata": {
            "tags": []
          },
          "execution_count": 36
        }
      ]
    },
    {
      "cell_type": "code",
      "metadata": {
        "jupyter": {
          "outputs_hidden": false
        },
        "id": "oeMrtspaSU7E",
        "colab_type": "code",
        "colab": {},
        "outputId": "d68d020b-cc77-44d0-98c5-2aec0e182f13"
      },
      "source": [
        "# Print the object attribute color\n",
        "\n",
        "SkinnyBlueRectangle.color"
      ],
      "execution_count": 0,
      "outputs": [
        {
          "output_type": "execute_result",
          "data": {
            "text/plain": [
              "'b'"
            ]
          },
          "metadata": {
            "tags": []
          },
          "execution_count": 37
        }
      ]
    },
    {
      "cell_type": "markdown",
      "metadata": {
        "id": "U46a0lKHSU7I",
        "colab_type": "text"
      },
      "source": [
        " We can draw the object:"
      ]
    },
    {
      "cell_type": "code",
      "metadata": {
        "jupyter": {
          "outputs_hidden": false
        },
        "scrolled": true,
        "id": "3R3Z_Qr5SU7J",
        "colab_type": "code",
        "colab": {},
        "outputId": "62713119-808c-4e98-e142-ce753d8c03e3"
      },
      "source": [
        "# Use the drawRectangle method to draw the shape\n",
        "\n",
        "SkinnyBlueRectangle.drawRectangle()"
      ],
      "execution_count": 0,
      "outputs": [
        {
          "output_type": "display_data",
          "data": {
            "image/png": "[encoded data removed]",
            "text/plain": [
              "<Figure size 432x288 with 1 Axes>"
            ]
          },
          "metadata": {
            "tags": [],
            "needs_background": "light"
          }
        }
      ]
    },
    {
      "cell_type": "markdown",
      "metadata": {
        "id": "VMkmomkeSU7N",
        "colab_type": "text"
      },
      "source": [
        "Let’s create the object <code>FatYellowRectangle</code> of type Rectangle :"
      ]
    },
    {
      "cell_type": "code",
      "metadata": {
        "id": "bYZ_PqAfSU7N",
        "colab_type": "code",
        "colab": {}
      },
      "source": [
        "# Create a new object rectangle\n",
        "\n",
        "FatYellowRectangle = Rectangle(20, 5, 'yellow')"
      ],
      "execution_count": 0,
      "outputs": []
    },
    {
      "cell_type": "markdown",
      "metadata": {
        "id": "aMRFqbGsSU7Q",
        "colab_type": "text"
      },
      "source": [
        " We can access the attributes of the instance of the class by using the dot notation:"
      ]
    },
    {
      "cell_type": "code",
      "metadata": {
        "jupyter": {
          "outputs_hidden": false
        },
        "id": "-6XC22BrSU7R",
        "colab_type": "code",
        "colab": {},
        "outputId": "6174c88e-8ba0-4e33-a2c6-e1f15db0625e"
      },
      "source": [
        "# Print the object attribute height\n",
        "\n",
        "FatYellowRectangle.height "
      ],
      "execution_count": 0,
      "outputs": [
        {
          "output_type": "execute_result",
          "data": {
            "text/plain": [
              "5"
            ]
          },
          "metadata": {
            "tags": []
          },
          "execution_count": 41
        }
      ]
    },
    {
      "cell_type": "code",
      "metadata": {
        "jupyter": {
          "outputs_hidden": false
        },
        "id": "Uvb9w7WbSU7W",
        "colab_type": "code",
        "colab": {},
        "outputId": "1db5d1b6-3e79-4402-8077-505e529910eb"
      },
      "source": [
        "# Print the object attribute width\n",
        "\n",
        "FatYellowRectangle.width"
      ],
      "execution_count": 0,
      "outputs": [
        {
          "output_type": "execute_result",
          "data": {
            "text/plain": [
              "20"
            ]
          },
          "metadata": {
            "tags": []
          },
          "execution_count": 42
        }
      ]
    },
    {
      "cell_type": "code",
      "metadata": {
        "jupyter": {
          "outputs_hidden": false
        },
        "id": "LxQBRK4gSU7d",
        "colab_type": "code",
        "colab": {},
        "outputId": "8474f11a-e8b6-4a4b-e17a-2de7c1ac9e04"
      },
      "source": [
        "# Print the object attribute color\n",
        "\n",
        "FatYellowRectangle.color"
      ],
      "execution_count": 0,
      "outputs": [
        {
          "output_type": "execute_result",
          "data": {
            "text/plain": [
              "'yellow'"
            ]
          },
          "metadata": {
            "tags": []
          },
          "execution_count": 43
        }
      ]
    },
    {
      "cell_type": "markdown",
      "metadata": {
        "id": "5iVHw02OSU7o",
        "colab_type": "text"
      },
      "source": [
        " We can draw the object:"
      ]
    },
    {
      "cell_type": "code",
      "metadata": {
        "jupyter": {
          "outputs_hidden": false
        },
        "id": "Jewn_NpdSU7r",
        "colab_type": "code",
        "colab": {},
        "outputId": "e1b2a2ec-2409-48b6-9ed0-59f73b502de1"
      },
      "source": [
        "# Use the drawRectangle method to draw the shape\n",
        "\n",
        "FatYellowRectangle.drawRectangle()"
      ],
      "execution_count": 0,
      "outputs": [
        {
          "output_type": "display_data",
          "data": {
            "image/png": "[encoded data removed]",
            "text/plain": [
              "<Figure size 432x288 with 1 Axes>"
            ]
          },
          "metadata": {
            "tags": [],
            "needs_background": "light"
          }
        }
      ]
    },
    {
      "cell_type": "markdown",
      "metadata": {
        "id": "pYjc--FySU7t",
        "colab_type": "text"
      },
      "source": [
        "<hr>\n",
        "<h2>The last exercise!</h2>\n",
        "<p>Congratulations, you have completed your first lesson and hands-on lab in Python. However, there is one more thing you need to do. The Data Science community encourages sharing work. The best way to share and showcase your work is to share it on GitHub. By sharing your notebook on GitHub you are not only building your reputation with fellow data scientists, but you can also show it off when applying for a job. Even though this was your first piece of work, it is never too early to start building good habits. So, please read and follow <a href=\"https://cognitiveclass.ai/blog/data-scientists-stand-out-by-sharing-your-notebooks/\" target=\"_blank\">this article</a> to learn how to share your work.\n",
        "<hr>"
      ]
    },
    {
      "cell_type": "markdown",
      "metadata": {
        "id": "4Lf-RUB6SU7u",
        "colab_type": "text"
      },
      "source": [
        "<div class=\"alert alert-block alert-info\" style=\"margin-top: 20px\">\n",
        "<h2>Get IBM Watson Studio free of charge!</h2>\n",
        "    <p><a href=\"https://cocl.us/NotebooksPython101bottom\"><img src=\"https://s3-api.us-geo.objectstorage.softlayer.net/cf-courses-data/CognitiveClass/PY0101EN/Ad/BottomAd.png\" width=\"750\" align=\"center\"></a></p>\n",
        "</div>"
      ]
    },
    {
      "cell_type": "markdown",
      "metadata": {
        "id": "-E3L20MxSU7v",
        "colab_type": "text"
      },
      "source": [
        "<h3>About the Authors:</h3>  \n",
        "<p><a href=\"https://www.linkedin.com/in/joseph-s-50398b136/\" target=\"_blank\">Joseph Santarcangelo</a> is a Data Scientist at IBM, and holds a PhD in Electrical Engineering. His research focused on using Machine Learning, Signal Processing, and Computer Vision to determine how videos impact human cognition. Joseph has been working for IBM since he completed his PhD.</p>"
      ]
    },
    {
      "cell_type": "markdown",
      "metadata": {
        "id": "0gOU-1plSU7v",
        "colab_type": "text"
      },
      "source": [
        "Other contributors: <a href=\"www.linkedin.com/in/jiahui-mavis-zhou-a4537814a\">Mavis Zhou</a>"
      ]
    },
    {
      "cell_type": "markdown",
      "metadata": {
        "id": "q-c8esfoSU7v",
        "colab_type": "text"
      },
      "source": [
        "<hr>"
      ]
    },
    {
      "cell_type": "markdown",
      "metadata": {
        "id": "gm6hdHaSSU7w",
        "colab_type": "text"
      },
      "source": [
        "<p>Copyright &copy; 2018 IBM Developer Skills Network. This notebook and its source code are released under the terms of the <a href=\"https://cognitiveclass.ai/mit-license/\">MIT License</a>.</p>"
      ]
    }
  ]
}